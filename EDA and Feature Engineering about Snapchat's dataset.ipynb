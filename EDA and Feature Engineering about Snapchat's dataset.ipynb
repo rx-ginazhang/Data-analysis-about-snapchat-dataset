{
 "cells": [
  {
   "cell_type": "markdown",
   "metadata": {},
   "source": [
    "## 1. EDA\n",
    "\n",
    "### Introduction\n",
    "This project is a report about the datasets from the Snapchat's advertisement‘s Library. The dataset we use has 34 columns and 4268 observations. <br>\n",
    "We plan to investigate three questions in this report:\n",
    "- What are the most prevalent organizations, advertisers, and ballot candidates in the data? Do you recognize any?\n",
    "- What are the characteristics of ads with a large reach, i.e., many views? What may a campaign consider when maximizing an ad's reach?\n",
    "- What groups or regions are targeted frequently? <br>\n",
    "We also want to analyze the missingness in 'EndDate' columns, while do a hypothesis test to analyze the difference between the impressions of male-targeted and female-targeted advertisements.\n",
    "\n",
    "### Cleaning and EDA\n",
    "We first combine the two dataframes into a single one. We then converted the time to datetime form with the same time zone, and also transfrom the spend into USD form.\n",
    "We defined 'Large-reach' as having a large number of Impressions. We calculate the average impression(in second) and the number of the targeted factor. We define 'prevalent' as appearing most in the dataset. By analyzing the counts and impressions, we find that though the most prevalent organizations, candidates and advertiser overweighs others in count, their average impressions are not the best in the datasets.This may indicates that those top prevalent organizations, candidates and advertisers tend to have a poor-quality advertisement.<br>\n",
    "By plotting scatter plots with a best-fit line, we find that if an advertisment in the data has a higher impression, it tends to have a higher spend, more number of radius and more number of interests. We also find that in the top 25% most viewed ads, most of them are from the United States since most of the data are ads from USA. However, when comparing the average impression, France and United Arab Emirates win for a potentially better quality of ads. <br>\n",
    "We also find that, Florida and Colorado are the most targeted Electoral Districts while Minnesota and Virginia becomes the most common targeted region. It is reasonable since all these regions and districts are politically active and both sides want to compete for these regions' support. Thus, more ads tend to target these regions. We also find that Green Living Enthusiasts,Political News Watchers and Advocates & Activists are the main targeted audience since they are more likely to participate the political events. Females also become the main targeted gender since more equal-rights activities are hold.\n",
    "\n",
    "### Assessment of Missingness\n",
    "As we analyzed in EDA part, we find an obvious relationship between Spend and Impressions. We also find there are many entries in columns 'EndDate' are missing. We try to find whether the missingness of end date of the advertisement depends on the Impression and Spend columns.<br>\n",
    "We adopt a permutation test to verify our guess with a significance value of 5%. We first observe a huge difference between the average spend of the null group and non-null group. Then we shuffle the End Date column for 1000 times to do a permutation test. We get a p-value of 0.02, which means the missingness of end date of the advertisement is dependent on the Impressions columns. <br>\n",
    "To find whether the missingness is correlated to the Spend column, we also use k-s statistic to do another permutation test with a significance value of 5%. We have a p-value which is quite close to 0. Then we reject the null hypothesis that the missingness of end date of the advertisement is random.<br>\n",
    "We have a simple guess to explain this result: The advertisement which tends to recevie less views indicates that it has a poor design and plan. Thus the snapchat stops tracking its performance and its EndDate is missing.\n",
    "### Hypothesis Test\n",
    "We observe a difference of average Impressions between advertisements targeted to only female and advertisements targeted to only male. It seems that advertisements targeted to only male recevies 10,000 views than advertisements targeted to only female. We use a hypothesis test to see that whether this difference is by chance.<br>\n",
    "Our hypothesis is <br>H0: The average impressions of  advertisements targeted to only male is equal to advertisements targeted to only female.<br> H1:The average impressions of  advertisements targeted to only male is more than advertisements targeted to only female.<br>\n",
    "We use the difference of mean of each group as our test statistics and 5% as our significance level.<br>\n",
    "After a 1000-shuffling test, we get a p-value of 0.65, which means that we fail to reject our null hypothesis. Thus, the difference of average Impressions between advertisements targeted to only female and  advertisements targeted to only male is by chance. However, we need to notice that those ads targeted to female much more frequently. Thus, in future research we may have to pay more attention on the confounding variables."
   ]
  },
  {
   "cell_type": "markdown",
   "metadata": {},
   "source": [
    "# Code"
   ]
  },
  {
   "cell_type": "code",
   "execution_count": 2,
   "metadata": {
    "ExecuteTime": {
     "end_time": "2019-10-31T23:36:28.652554Z",
     "start_time": "2019-10-31T23:36:27.180520Z"
    }
   },
   "outputs": [],
   "source": [
    "import matplotlib.pyplot as plt\n",
    "import numpy as np\n",
    "import os\n",
    "import pandas as pd\n",
    "import seaborn as sns\n",
    "%matplotlib inline\n",
    "%config InlineBackend.figure_format = 'retina'  # Higher resolution figures"
   ]
  },
  {
   "cell_type": "markdown",
   "metadata": {},
   "source": [
    "### Cleaning and EDA"
   ]
  },
  {
   "cell_type": "markdown",
   "metadata": {},
   "source": [
    "First of all, we combine the data together to form a dataframe containing information from both 2018 and 2019."
   ]
  },
  {
   "cell_type": "code",
   "execution_count": 736,
   "metadata": {
    "ExecuteTime": {
     "end_time": "2019-10-31T23:36:28.657068Z",
     "start_time": "2019-10-31T23:36:28.654650Z"
    }
   },
   "outputs": [
    {
     "data": {
      "text/html": [
       "<div>\n",
       "<style scoped>\n",
       "    .dataframe tbody tr th:only-of-type {\n",
       "        vertical-align: middle;\n",
       "    }\n",
       "\n",
       "    .dataframe tbody tr th {\n",
       "        vertical-align: top;\n",
       "    }\n",
       "\n",
       "    .dataframe thead th {\n",
       "        text-align: right;\n",
       "    }\n",
       "</style>\n",
       "<table border=\"1\" class=\"dataframe\">\n",
       "  <thead>\n",
       "    <tr style=\"text-align: right;\">\n",
       "      <th></th>\n",
       "      <th>index</th>\n",
       "      <th>ADID</th>\n",
       "      <th>CreativeUrl</th>\n",
       "      <th>Currency Code</th>\n",
       "      <th>Spend</th>\n",
       "      <th>Impressions</th>\n",
       "      <th>StartDate</th>\n",
       "      <th>EndDate</th>\n",
       "      <th>OrganizationName</th>\n",
       "      <th>BillingAddress</th>\n",
       "      <th>...</th>\n",
       "      <th>Location Categories (Included)</th>\n",
       "      <th>Location Categories (Excluded)</th>\n",
       "      <th>Interests</th>\n",
       "      <th>OsType</th>\n",
       "      <th>Segments</th>\n",
       "      <th>Language</th>\n",
       "      <th>AdvancedDemographics</th>\n",
       "      <th>Targeting Connection Type</th>\n",
       "      <th>Targeting Carrier (ISP)</th>\n",
       "      <th>CreativeProperties</th>\n",
       "    </tr>\n",
       "  </thead>\n",
       "  <tbody>\n",
       "    <tr>\n",
       "      <th>0</th>\n",
       "      <td>0</td>\n",
       "      <td>ec8502b1458cc1f3ae6c6595f5945a02d1a40d07bd2047...</td>\n",
       "      <td>https://www.snap.com/political-ads/asset/1741e...</td>\n",
       "      <td>USD</td>\n",
       "      <td>60</td>\n",
       "      <td>15116</td>\n",
       "      <td>2018/12/01 17:37:07Z</td>\n",
       "      <td>2019/01/10 22:51:08Z</td>\n",
       "      <td>LPM</td>\n",
       "      <td>GB</td>\n",
       "      <td>...</td>\n",
       "      <td>NaN</td>\n",
       "      <td>NaN</td>\n",
       "      <td>NaN</td>\n",
       "      <td>NaN</td>\n",
       "      <td>Provided by Advertiser</td>\n",
       "      <td>NaN</td>\n",
       "      <td>NaN</td>\n",
       "      <td>NaN</td>\n",
       "      <td>NaN</td>\n",
       "      <td>web_view_url:http://jidesanwoolu.ng</td>\n",
       "    </tr>\n",
       "    <tr>\n",
       "      <th>1</th>\n",
       "      <td>1</td>\n",
       "      <td>cb0e9e6fad9cf28867221f5be6acf08ec3946c5a44b940...</td>\n",
       "      <td>https://www.snap.com/political-ads/asset/51615...</td>\n",
       "      <td>EUR</td>\n",
       "      <td>673</td>\n",
       "      <td>223919</td>\n",
       "      <td>2018/09/02 09:59:57Z</td>\n",
       "      <td>2018/09/15 09:59:59Z</td>\n",
       "      <td>Media Agent</td>\n",
       "      <td>Østre alle 2 ,Værløse ,3500,DK</td>\n",
       "      <td>...</td>\n",
       "      <td>NaN</td>\n",
       "      <td>NaN</td>\n",
       "      <td>NaN</td>\n",
       "      <td>NaN</td>\n",
       "      <td>Provided by Advertiser</td>\n",
       "      <td>NaN</td>\n",
       "      <td>NaN</td>\n",
       "      <td>NaN</td>\n",
       "      <td>NaN</td>\n",
       "      <td>web_view_url:https://danskfolkeparti.dk</td>\n",
       "    </tr>\n",
       "    <tr>\n",
       "      <th>2</th>\n",
       "      <td>2</td>\n",
       "      <td>1f1ab192aa8cf2b1cd5daee80d42eed7f089b61a7a51ee...</td>\n",
       "      <td>https://www.snap.com/political-ads/asset/f4acf...</td>\n",
       "      <td>USD</td>\n",
       "      <td>996</td>\n",
       "      <td>94458</td>\n",
       "      <td>2018/10/18 20:06:52Z</td>\n",
       "      <td>2018/11/06 23:00:00Z</td>\n",
       "      <td>Bully Pulpit Interactive</td>\n",
       "      <td>1445 New York Ave NW,Washington,20005,US</td>\n",
       "      <td>...</td>\n",
       "      <td>NaN</td>\n",
       "      <td>NaN</td>\n",
       "      <td>NaN</td>\n",
       "      <td>NaN</td>\n",
       "      <td>NaN</td>\n",
       "      <td>NaN</td>\n",
       "      <td>NaN</td>\n",
       "      <td>NaN</td>\n",
       "      <td>NaN</td>\n",
       "      <td>NaN</td>\n",
       "    </tr>\n",
       "    <tr>\n",
       "      <th>3</th>\n",
       "      <td>3</td>\n",
       "      <td>28fc1aa27819556a773bdb3f524f6110df24eba930985d...</td>\n",
       "      <td>https://www.snap.com/political-ads/asset/fd7e9...</td>\n",
       "      <td>USD</td>\n",
       "      <td>2431</td>\n",
       "      <td>500887</td>\n",
       "      <td>2018/10/29 17:40:22Z</td>\n",
       "      <td>2018/11/04 04:00:00Z</td>\n",
       "      <td>ACRONYM</td>\n",
       "      <td>US</td>\n",
       "      <td>...</td>\n",
       "      <td>NaN</td>\n",
       "      <td>NaN</td>\n",
       "      <td>Advocates &amp; Activists,Basketball Fans,Bookworm...</td>\n",
       "      <td>NaN</td>\n",
       "      <td>Provided by Advertiser</td>\n",
       "      <td>NaN</td>\n",
       "      <td>NaN</td>\n",
       "      <td>NaN</td>\n",
       "      <td>NaN</td>\n",
       "      <td>web_view_url:https://plan.showupto.vote/</td>\n",
       "    </tr>\n",
       "    <tr>\n",
       "      <th>4</th>\n",
       "      <td>4</td>\n",
       "      <td>7d48bac22fa3e1ac4d5a77d6aa4c005dabfd33eafc560c...</td>\n",
       "      <td>https://www.snap.com/political-ads/asset/8892a...</td>\n",
       "      <td>CAD</td>\n",
       "      <td>224</td>\n",
       "      <td>137147</td>\n",
       "      <td>2018/07/20 23:09:54Z</td>\n",
       "      <td>2018/09/04 03:59:00Z</td>\n",
       "      <td>The Aber Group</td>\n",
       "      <td>202-120 Eglinton Avenue East,Toronto,M4P1E2,CA</td>\n",
       "      <td>...</td>\n",
       "      <td>NaN</td>\n",
       "      <td>NaN</td>\n",
       "      <td>NaN</td>\n",
       "      <td>NaN</td>\n",
       "      <td>NaN</td>\n",
       "      <td>en</td>\n",
       "      <td>NaN</td>\n",
       "      <td>NaN</td>\n",
       "      <td>NaN</td>\n",
       "      <td>web_view_url:https://plancanada.ca/ChangeTheBi...</td>\n",
       "    </tr>\n",
       "  </tbody>\n",
       "</table>\n",
       "<p>5 rows × 35 columns</p>\n",
       "</div>"
      ],
      "text/plain": [
       "   index                                               ADID  \\\n",
       "0      0  ec8502b1458cc1f3ae6c6595f5945a02d1a40d07bd2047...   \n",
       "1      1  cb0e9e6fad9cf28867221f5be6acf08ec3946c5a44b940...   \n",
       "2      2  1f1ab192aa8cf2b1cd5daee80d42eed7f089b61a7a51ee...   \n",
       "3      3  28fc1aa27819556a773bdb3f524f6110df24eba930985d...   \n",
       "4      4  7d48bac22fa3e1ac4d5a77d6aa4c005dabfd33eafc560c...   \n",
       "\n",
       "                                         CreativeUrl Currency Code  Spend  \\\n",
       "0  https://www.snap.com/political-ads/asset/1741e...           USD     60   \n",
       "1  https://www.snap.com/political-ads/asset/51615...           EUR    673   \n",
       "2  https://www.snap.com/political-ads/asset/f4acf...           USD    996   \n",
       "3  https://www.snap.com/political-ads/asset/fd7e9...           USD   2431   \n",
       "4  https://www.snap.com/political-ads/asset/8892a...           CAD    224   \n",
       "\n",
       "   Impressions             StartDate               EndDate  \\\n",
       "0        15116  2018/12/01 17:37:07Z  2019/01/10 22:51:08Z   \n",
       "1       223919  2018/09/02 09:59:57Z  2018/09/15 09:59:59Z   \n",
       "2        94458  2018/10/18 20:06:52Z  2018/11/06 23:00:00Z   \n",
       "3       500887  2018/10/29 17:40:22Z  2018/11/04 04:00:00Z   \n",
       "4       137147  2018/07/20 23:09:54Z  2018/09/04 03:59:00Z   \n",
       "\n",
       "           OrganizationName                                  BillingAddress  \\\n",
       "0                       LPM                                              GB   \n",
       "1               Media Agent                  Østre alle 2 ,Værløse ,3500,DK   \n",
       "2  Bully Pulpit Interactive        1445 New York Ave NW,Washington,20005,US   \n",
       "3                   ACRONYM                                              US   \n",
       "4            The Aber Group  202-120 Eglinton Avenue East,Toronto,M4P1E2,CA   \n",
       "\n",
       "   ... Location Categories (Included) Location Categories (Excluded)  \\\n",
       "0  ...                            NaN                            NaN   \n",
       "1  ...                            NaN                            NaN   \n",
       "2  ...                            NaN                            NaN   \n",
       "3  ...                            NaN                            NaN   \n",
       "4  ...                            NaN                            NaN   \n",
       "\n",
       "                                           Interests OsType  \\\n",
       "0                                                NaN    NaN   \n",
       "1                                                NaN    NaN   \n",
       "2                                                NaN    NaN   \n",
       "3  Advocates & Activists,Basketball Fans,Bookworm...    NaN   \n",
       "4                                                NaN    NaN   \n",
       "\n",
       "                 Segments Language AdvancedDemographics  \\\n",
       "0  Provided by Advertiser      NaN                  NaN   \n",
       "1  Provided by Advertiser      NaN                  NaN   \n",
       "2                     NaN      NaN                  NaN   \n",
       "3  Provided by Advertiser      NaN                  NaN   \n",
       "4                     NaN       en                  NaN   \n",
       "\n",
       "  Targeting Connection Type  Targeting Carrier (ISP)  \\\n",
       "0                       NaN                      NaN   \n",
       "1                       NaN                      NaN   \n",
       "2                       NaN                      NaN   \n",
       "3                       NaN                      NaN   \n",
       "4                       NaN                      NaN   \n",
       "\n",
       "                                  CreativeProperties  \n",
       "0                web_view_url:http://jidesanwoolu.ng  \n",
       "1            web_view_url:https://danskfolkeparti.dk  \n",
       "2                                                NaN  \n",
       "3           web_view_url:https://plan.showupto.vote/  \n",
       "4  web_view_url:https://plancanada.ca/ChangeTheBi...  \n",
       "\n",
       "[5 rows x 35 columns]"
      ]
     },
     "execution_count": 736,
     "metadata": {},
     "output_type": "execute_result"
    }
   ],
   "source": [
    "code_2018 = pd.read_csv('PoliticalAds2018.csv')\n",
    "code_2019 = pd.read_csv('PoliticalAds2019.csv')\n",
    "df = pd.concat([code_2018,code_2019]).reset_index()\n",
    "df.head()"
   ]
  },
  {
   "cell_type": "markdown",
   "metadata": {},
   "source": [
    "We choose to drop the ADID and CreativeUrl since they are given in a relatively random way and are useless in our analysis."
   ]
  },
  {
   "cell_type": "code",
   "execution_count": 737,
   "metadata": {},
   "outputs": [
    {
     "data": {
      "text/html": [
       "<div>\n",
       "<style scoped>\n",
       "    .dataframe tbody tr th:only-of-type {\n",
       "        vertical-align: middle;\n",
       "    }\n",
       "\n",
       "    .dataframe tbody tr th {\n",
       "        vertical-align: top;\n",
       "    }\n",
       "\n",
       "    .dataframe thead th {\n",
       "        text-align: right;\n",
       "    }\n",
       "</style>\n",
       "<table border=\"1\" class=\"dataframe\">\n",
       "  <thead>\n",
       "    <tr style=\"text-align: right;\">\n",
       "      <th></th>\n",
       "      <th>index</th>\n",
       "      <th>Currency Code</th>\n",
       "      <th>Spend</th>\n",
       "      <th>Impressions</th>\n",
       "      <th>StartDate</th>\n",
       "      <th>EndDate</th>\n",
       "      <th>OrganizationName</th>\n",
       "      <th>BillingAddress</th>\n",
       "      <th>CandidateBallotInformation</th>\n",
       "      <th>PayingAdvertiserName</th>\n",
       "      <th>...</th>\n",
       "      <th>Location Categories (Included)</th>\n",
       "      <th>Location Categories (Excluded)</th>\n",
       "      <th>Interests</th>\n",
       "      <th>OsType</th>\n",
       "      <th>Segments</th>\n",
       "      <th>Language</th>\n",
       "      <th>AdvancedDemographics</th>\n",
       "      <th>Targeting Connection Type</th>\n",
       "      <th>Targeting Carrier (ISP)</th>\n",
       "      <th>CreativeProperties</th>\n",
       "    </tr>\n",
       "  </thead>\n",
       "  <tbody>\n",
       "    <tr>\n",
       "      <th>0</th>\n",
       "      <td>0</td>\n",
       "      <td>USD</td>\n",
       "      <td>60</td>\n",
       "      <td>15116</td>\n",
       "      <td>2018/12/01 17:37:07Z</td>\n",
       "      <td>2019/01/10 22:51:08Z</td>\n",
       "      <td>LPM</td>\n",
       "      <td>GB</td>\n",
       "      <td>NaN</td>\n",
       "      <td>sdm.ng</td>\n",
       "      <td>...</td>\n",
       "      <td>NaN</td>\n",
       "      <td>NaN</td>\n",
       "      <td>NaN</td>\n",
       "      <td>NaN</td>\n",
       "      <td>Provided by Advertiser</td>\n",
       "      <td>NaN</td>\n",
       "      <td>NaN</td>\n",
       "      <td>NaN</td>\n",
       "      <td>NaN</td>\n",
       "      <td>web_view_url:http://jidesanwoolu.ng</td>\n",
       "    </tr>\n",
       "    <tr>\n",
       "      <th>1</th>\n",
       "      <td>1</td>\n",
       "      <td>EUR</td>\n",
       "      <td>673</td>\n",
       "      <td>223919</td>\n",
       "      <td>2018/09/02 09:59:57Z</td>\n",
       "      <td>2018/09/15 09:59:59Z</td>\n",
       "      <td>Media Agent</td>\n",
       "      <td>Østre alle 2 ,Værløse ,3500,DK</td>\n",
       "      <td>NaN</td>\n",
       "      <td>Dansk_Folkeparti</td>\n",
       "      <td>...</td>\n",
       "      <td>NaN</td>\n",
       "      <td>NaN</td>\n",
       "      <td>NaN</td>\n",
       "      <td>NaN</td>\n",
       "      <td>Provided by Advertiser</td>\n",
       "      <td>NaN</td>\n",
       "      <td>NaN</td>\n",
       "      <td>NaN</td>\n",
       "      <td>NaN</td>\n",
       "      <td>web_view_url:https://danskfolkeparti.dk</td>\n",
       "    </tr>\n",
       "    <tr>\n",
       "      <th>2</th>\n",
       "      <td>2</td>\n",
       "      <td>USD</td>\n",
       "      <td>996</td>\n",
       "      <td>94458</td>\n",
       "      <td>2018/10/18 20:06:52Z</td>\n",
       "      <td>2018/11/06 23:00:00Z</td>\n",
       "      <td>Bully Pulpit Interactive</td>\n",
       "      <td>1445 New York Ave NW,Washington,20005,US</td>\n",
       "      <td>NaN</td>\n",
       "      <td>NextGen America</td>\n",
       "      <td>...</td>\n",
       "      <td>NaN</td>\n",
       "      <td>NaN</td>\n",
       "      <td>NaN</td>\n",
       "      <td>NaN</td>\n",
       "      <td>NaN</td>\n",
       "      <td>NaN</td>\n",
       "      <td>NaN</td>\n",
       "      <td>NaN</td>\n",
       "      <td>NaN</td>\n",
       "      <td>NaN</td>\n",
       "    </tr>\n",
       "    <tr>\n",
       "      <th>3</th>\n",
       "      <td>3</td>\n",
       "      <td>USD</td>\n",
       "      <td>2431</td>\n",
       "      <td>500887</td>\n",
       "      <td>2018/10/29 17:40:22Z</td>\n",
       "      <td>2018/11/04 04:00:00Z</td>\n",
       "      <td>ACRONYM</td>\n",
       "      <td>US</td>\n",
       "      <td>NaN</td>\n",
       "      <td>Show Up To Vote</td>\n",
       "      <td>...</td>\n",
       "      <td>NaN</td>\n",
       "      <td>NaN</td>\n",
       "      <td>Advocates &amp; Activists,Basketball Fans,Bookworm...</td>\n",
       "      <td>NaN</td>\n",
       "      <td>Provided by Advertiser</td>\n",
       "      <td>NaN</td>\n",
       "      <td>NaN</td>\n",
       "      <td>NaN</td>\n",
       "      <td>NaN</td>\n",
       "      <td>web_view_url:https://plan.showupto.vote/</td>\n",
       "    </tr>\n",
       "    <tr>\n",
       "      <th>4</th>\n",
       "      <td>4</td>\n",
       "      <td>CAD</td>\n",
       "      <td>224</td>\n",
       "      <td>137147</td>\n",
       "      <td>2018/07/20 23:09:54Z</td>\n",
       "      <td>2018/09/04 03:59:00Z</td>\n",
       "      <td>The Aber Group</td>\n",
       "      <td>202-120 Eglinton Avenue East,Toronto,M4P1E2,CA</td>\n",
       "      <td>NaN</td>\n",
       "      <td>Plan International Canada</td>\n",
       "      <td>...</td>\n",
       "      <td>NaN</td>\n",
       "      <td>NaN</td>\n",
       "      <td>NaN</td>\n",
       "      <td>NaN</td>\n",
       "      <td>NaN</td>\n",
       "      <td>en</td>\n",
       "      <td>NaN</td>\n",
       "      <td>NaN</td>\n",
       "      <td>NaN</td>\n",
       "      <td>web_view_url:https://plancanada.ca/ChangeTheBi...</td>\n",
       "    </tr>\n",
       "  </tbody>\n",
       "</table>\n",
       "<p>5 rows × 33 columns</p>\n",
       "</div>"
      ],
      "text/plain": [
       "   index Currency Code  Spend  Impressions             StartDate  \\\n",
       "0      0           USD     60        15116  2018/12/01 17:37:07Z   \n",
       "1      1           EUR    673       223919  2018/09/02 09:59:57Z   \n",
       "2      2           USD    996        94458  2018/10/18 20:06:52Z   \n",
       "3      3           USD   2431       500887  2018/10/29 17:40:22Z   \n",
       "4      4           CAD    224       137147  2018/07/20 23:09:54Z   \n",
       "\n",
       "                EndDate          OrganizationName  \\\n",
       "0  2019/01/10 22:51:08Z                       LPM   \n",
       "1  2018/09/15 09:59:59Z               Media Agent   \n",
       "2  2018/11/06 23:00:00Z  Bully Pulpit Interactive   \n",
       "3  2018/11/04 04:00:00Z                   ACRONYM   \n",
       "4  2018/09/04 03:59:00Z            The Aber Group   \n",
       "\n",
       "                                   BillingAddress CandidateBallotInformation  \\\n",
       "0                                              GB                        NaN   \n",
       "1                  Østre alle 2 ,Værløse ,3500,DK                        NaN   \n",
       "2        1445 New York Ave NW,Washington,20005,US                        NaN   \n",
       "3                                              US                        NaN   \n",
       "4  202-120 Eglinton Avenue East,Toronto,M4P1E2,CA                        NaN   \n",
       "\n",
       "        PayingAdvertiserName  ... Location Categories (Included)  \\\n",
       "0                     sdm.ng  ...                            NaN   \n",
       "1           Dansk_Folkeparti  ...                            NaN   \n",
       "2            NextGen America  ...                            NaN   \n",
       "3            Show Up To Vote  ...                            NaN   \n",
       "4  Plan International Canada  ...                            NaN   \n",
       "\n",
       "  Location Categories (Excluded)  \\\n",
       "0                            NaN   \n",
       "1                            NaN   \n",
       "2                            NaN   \n",
       "3                            NaN   \n",
       "4                            NaN   \n",
       "\n",
       "                                           Interests OsType  \\\n",
       "0                                                NaN    NaN   \n",
       "1                                                NaN    NaN   \n",
       "2                                                NaN    NaN   \n",
       "3  Advocates & Activists,Basketball Fans,Bookworm...    NaN   \n",
       "4                                                NaN    NaN   \n",
       "\n",
       "                 Segments Language  AdvancedDemographics  \\\n",
       "0  Provided by Advertiser      NaN                   NaN   \n",
       "1  Provided by Advertiser      NaN                   NaN   \n",
       "2                     NaN      NaN                   NaN   \n",
       "3  Provided by Advertiser      NaN                   NaN   \n",
       "4                     NaN       en                   NaN   \n",
       "\n",
       "  Targeting Connection Type Targeting Carrier (ISP)  \\\n",
       "0                       NaN                     NaN   \n",
       "1                       NaN                     NaN   \n",
       "2                       NaN                     NaN   \n",
       "3                       NaN                     NaN   \n",
       "4                       NaN                     NaN   \n",
       "\n",
       "                                  CreativeProperties  \n",
       "0                web_view_url:http://jidesanwoolu.ng  \n",
       "1            web_view_url:https://danskfolkeparti.dk  \n",
       "2                                                NaN  \n",
       "3           web_view_url:https://plan.showupto.vote/  \n",
       "4  web_view_url:https://plancanada.ca/ChangeTheBi...  \n",
       "\n",
       "[5 rows x 33 columns]"
      ]
     },
     "execution_count": 737,
     "metadata": {},
     "output_type": "execute_result"
    }
   ],
   "source": [
    "df_cleaned=df.drop(columns=['ADID','CreativeUrl'])\n",
    "df_cleaned.head()"
   ]
  },
  {
   "cell_type": "markdown",
   "metadata": {},
   "source": [
    "Then we uniform the currency of all the advertisments. We decide to exchange all the other currency into USD"
   ]
  },
  {
   "cell_type": "code",
   "execution_count": 738,
   "metadata": {},
   "outputs": [
    {
     "data": {
      "text/plain": [
       "array(['USD', 'EUR', 'CAD', 'AUD', 'GBP'], dtype=object)"
      ]
     },
     "execution_count": 738,
     "metadata": {},
     "output_type": "execute_result"
    }
   ],
   "source": [
    "#Find all the currency in the dataset\n",
    "df_cleaned['Currency Code'].unique()"
   ]
  },
  {
   "cell_type": "code",
   "execution_count": 739,
   "metadata": {},
   "outputs": [],
   "source": [
    "# Exchange All the currency to USD\n",
    "currency_dict = {\"USD\": 1, \"EUR\": 1.1, \"GBP\": 1.25, \"CAD\": 0.71, \"AUD\": 0.64}\n",
    "exchange_rate = df_cleaned['Currency Code'].replace(currency_dict)\n",
    "df_cleaned['Uniform Spend'] = df_cleaned['Spend']*exchange_rate"
   ]
  },
  {
   "cell_type": "markdown",
   "metadata": {},
   "source": [
    "Then we clean the data by change the time to datetime form in correct time zone.We set the all the time zone to UTC."
   ]
  },
  {
   "cell_type": "code",
   "execution_count": 740,
   "metadata": {},
   "outputs": [],
   "source": [
    "df_cleaned['StartDate']=pd.to_datetime(df_cleaned['StartDate'])\n",
    "df_cleaned['EndDate']=pd.to_datetime(df_cleaned['EndDate'])\n",
    "df_cleaned['StartDate']=df_cleaned['StartDate'].dt.tz_convert(None)\n",
    "df_cleaned['EndDate']=df_cleaned['EndDate'].dt.tz_convert(None)"
   ]
  },
  {
   "cell_type": "markdown",
   "metadata": {},
   "source": [
    "We also clean the organization,candidate and advertiser name to aviod duplicates. In order to better compare the impression of each advertisement, we calculate the average impression per second for each advertisment. We set the average impression as null if the date entries are inconsistent(StartDate is later than EndDate)."
   ]
  },
  {
   "cell_type": "code",
   "execution_count": 741,
   "metadata": {},
   "outputs": [],
   "source": [
    "df_cleaned['OrganizationName']=df_cleaned['OrganizationName'].str.title().str.strip()\n",
    "df_cleaned['CandidateBallotInformation']=df_cleaned['CandidateBallotInformation'].str.title().str.strip()\n",
    "df_cleaned['PayingAdvertiserName']=df_cleaned['PayingAdvertiserName'].str.title().str.strip()\n",
    "df_cleaned['Duration'] = df_cleaned[\"EndDate\"] - df_cleaned[\"StartDate\"]\n",
    "df_cleaned['Duration']=df_cleaned['Duration'].dt.total_seconds()\n",
    "df_cleaned['Duration'] = df_cleaned['Duration'].apply(lambda x: np.nan if x<0 else x)\n",
    "df_cleaned['Average Impression']=df_cleaned['Impressions']/df_cleaned['Duration']"
   ]
  },
  {
   "cell_type": "markdown",
   "metadata": {},
   "source": [
    "#### Find the Most Prevalent Organizations,advertisers, and ballot candidates in the data\n",
    "For the EDA part, we first want to investigate the most prevalent organizations, advertisers, and ballot candidates in the dataset.<br>\n",
    "We begin with analyze the most prevalent organizations. We found that in our data, UnRestrict Minnesota appears for 311 times, which is the most common organization, while Blueprint Interactive and The Aber Group become the second and third  most prevalent organization."
   ]
  },
  {
   "cell_type": "code",
   "execution_count": 742,
   "metadata": {},
   "outputs": [
    {
     "data": {
      "text/plain": [
       "OrganizationName\n",
       "Unrestrict Minnesota              311\n",
       "Blueprint Interactive             248\n",
       "The Aber Group                    223\n",
       "Acronym                           182\n",
       "Hope Not Hate Charitable Trust    173\n",
       "Name: Impressions, dtype: int64"
      ]
     },
     "metadata": {},
     "output_type": "display_data"
    },
    {
     "data": {
      "image/png": "[encoded data removed]",
      "text/plain": [
       "<Figure size 432x288 with 1 Axes>"
      ]
     },
     "metadata": {
      "image/png": {
       "height": 426,
       "width": 375
      },
      "needs_background": "light"
     },
     "output_type": "display_data"
    }
   ],
   "source": [
    "organization=df_cleaned.groupby('OrganizationName')['Impressions'].count().sort_values(ascending = False).head()\n",
    "display(organization)\n",
    "organization.plot(kind=\"bar\", title=\"Most Prevalent Organization\")\n",
    "plt.show()"
   ]
  },
  {
   "cell_type": "markdown",
   "metadata": {},
   "source": [
    "However, when we sort the average impression of all the organization, swe find that the organization with the most average views is North Face, while UnRestrict Minnesota is not even in the top five organization with the most average views. Then we can conclude that the most prevalent organizations do not have a high average impression."
   ]
  },
  {
   "cell_type": "code",
   "execution_count": 743,
   "metadata": {},
   "outputs": [
    {
     "data": {
      "text/plain": [
       "OrganizationName\n",
       "The North Face                                 34.113581\n",
       "Recreational Equipment Inc.                    27.027928\n",
       "Australian Government Department Of Finance    14.351093\n",
       "The Labour Party                               12.766081\n",
       "Dentsu Aegis Network France                    12.261357\n",
       "Name: Average Impression, dtype: float64"
      ]
     },
     "execution_count": 743,
     "metadata": {},
     "output_type": "execute_result"
    }
   ],
   "source": [
    "df_cleaned.groupby('OrganizationName')['Average Impression'].mean().sort_values(ascending = False).head()"
   ]
  },
  {
   "cell_type": "markdown",
   "metadata": {},
   "source": [
    "We begin with analyze the most prevalent candidate . We found that in our data, General Election appears for 121 times, while Warren For President, as an individual candidate,appears for 116 times."
   ]
  },
  {
   "cell_type": "code",
   "execution_count": 744,
   "metadata": {},
   "outputs": [
    {
     "data": {
      "text/plain": [
       "CandidateBallotInformation\n",
       "General Election        121\n",
       "Warren For President    116\n",
       "Get Out The Vote         92\n",
       "Register To Vote         39\n",
       "Liberal Democrats        19\n",
       "Name: Impressions, dtype: int64"
      ]
     },
     "metadata": {},
     "output_type": "display_data"
    },
    {
     "data": {
      "image/png": "[encoded data removed]",
      "text/plain": [
       "<Figure size 432x288 with 1 Axes>"
      ]
     },
     "metadata": {
      "image/png": {
       "height": 374,
       "width": 375
      },
      "needs_background": "light"
     },
     "output_type": "display_data"
    }
   ],
   "source": [
    "candidate = df_cleaned.groupby('CandidateBallotInformation')['Impressions'].count()\n",
    "candidate=candidate.sort_values(ascending = False).head()\n",
    "display(candidate)\n",
    "candidate.plot(kind=\"bar\", title=\"Most Prevalent Candidate\")\n",
    "plt.show()"
   ]
  },
  {
   "cell_type": "markdown",
   "metadata": {},
   "source": [
    "Again, when we analyze the candidate with the most average views, the top three candidate becomes Labour Party, Mike Bloomberg and UK General Election. It indicates that the most prevalent cadidates'ads also do not have a high average impression."
   ]
  },
  {
   "cell_type": "code",
   "execution_count": 745,
   "metadata": {},
   "outputs": [
    {
     "data": {
      "text/plain": [
       "CandidateBallotInformation\n",
       "The Labour Party           25.304152\n",
       "Mike Bloomberg 2020 Inc    12.191920\n",
       "Uk General Election         7.673708\n",
       "Norbert Hofer               6.077464\n",
       "Uk General Elections        5.900382\n",
       "Name: Average Impression, dtype: float64"
      ]
     },
     "execution_count": 745,
     "metadata": {},
     "output_type": "execute_result"
    }
   ],
   "source": [
    "df_cleaned.groupby('CandidateBallotInformation')['Average Impression'].mean().sort_values(ascending = False).head()"
   ]
  },
  {
   "cell_type": "markdown",
   "metadata": {},
   "source": [
    "Finally we try to find the most prevalent advertiser. The top advertiser with the most occureance is Unrestrict Minnesota again,while Carat France  has the most average views. The most prevalent advertisers, as organizations and candidates, do not have a high average impression"
   ]
  },
  {
   "cell_type": "code",
   "execution_count": 746,
   "metadata": {},
   "outputs": [
    {
     "data": {
      "text/plain": [
       "PayingAdvertiserName\n",
       "Unrestrict Minnesota              311\n",
       "Plan International Canada         210\n",
       "Hope Not Hate Charitable Trust    173\n",
       "Warren For President              150\n",
       "Acronym                           129\n",
       "Name: Impressions, dtype: int64"
      ]
     },
     "metadata": {},
     "output_type": "display_data"
    },
    {
     "data": {
      "image/png": "[encoded data removed]",
      "text/plain": [
       "<Figure size 432x288 with 1 Axes>"
      ]
     },
     "metadata": {
      "image/png": {
       "height": 426,
       "width": 375
      },
      "needs_background": "light"
     },
     "output_type": "display_data"
    }
   ],
   "source": [
    "advertiser = df_cleaned.groupby('PayingAdvertiserName')['Impressions'].count().sort_values(ascending = False)\n",
    "advertiser =advertiser.head()\n",
    "display(advertiser)\n",
    "advertiser.plot(kind=\"bar\", title=\"Most Prevalent Advertiser\")\n",
    "plt.show()"
   ]
  },
  {
   "cell_type": "code",
   "execution_count": 776,
   "metadata": {},
   "outputs": [
    {
     "data": {
      "text/plain": [
       "PayingAdvertiserName\n",
       "Carat France                       106.851581\n",
       "The North Face                      34.113581\n",
       "Éducation Nationale                 17.407994\n",
       "Australian Electoral Commission     14.351093\n",
       "The Labour Party                    12.766081\n",
       "Name: Average Impression, dtype: float64"
      ]
     },
     "execution_count": 776,
     "metadata": {},
     "output_type": "execute_result"
    }
   ],
   "source": [
    "# Advertiser with the the most average views.\n",
    "df_cleaned.groupby('PayingAdvertiserName')['Average Impression'].mean().sort_values(ascending = False).head()"
   ]
  },
  {
   "cell_type": "markdown",
   "metadata": {},
   "source": [
    "<br>\n"
   ]
  },
  {
   "cell_type": "markdown",
   "metadata": {},
   "source": [
    "#### Find the characteristics of Large-reach ads\n",
    "\n",
    "After discussing the most prevalent organization,candidates and advertiser, now we want to know what are the characteristics of ads with a large reach, i.e., many views.<br>\n",
    "We first draw a scatter plot with a best-fit line for Impressions and Duration to see if calculating average Impression is reasonable. We see from the plot that there is a positive relationship between Impressions and Durations, though quite weak. Thus, it is resonable for us to calculate the average Impressions to reduce the impact of duration when analyzing other variables."
   ]
  },
  {
   "cell_type": "code",
   "execution_count": 748,
   "metadata": {
    "scrolled": true
   },
   "outputs": [
    {
     "data": {
      "image/png": "[encoded data removed]",
      "text/plain": [
       "<Figure size 432x288 with 1 Axes>"
      ]
     },
     "metadata": {
      "image/png": {
       "height": 277,
       "width": 385
      },
      "needs_background": "light"
     },
     "output_type": "display_data"
    }
   ],
   "source": [
    "plot = sns.regplot(df_cleaned['Duration'],df_cleaned['Impressions'])\n",
    "plot.set_title(\"Impressions Vs Duration\")\n",
    "plt.show()"
   ]
  },
  {
   "cell_type": "markdown",
   "metadata": {},
   "source": [
    "We then draw a scatter plot of Impressions and Spend with a best-fit line. With this overall plot, We can see that there is a obvious positive pattern, which means these two variable are quite likely to be related. Then in order to eliminate the possible effect caused by duration, we draw a scatter plot of average impressions and Spend with a best-fit line.\n",
    "From this plot, we still see a strong positve relationship between the two variable.Thus, we can conclude that advertisment that has a large reach tends to have a higher spend."
   ]
  },
  {
   "cell_type": "code",
   "execution_count": 749,
   "metadata": {},
   "outputs": [
    {
     "data": {
      "image/png": "[encoded data removed]",
      "text/plain": [
       "<Figure size 432x288 with 1 Axes>"
      ]
     },
     "metadata": {
      "image/png": {
       "height": 277,
       "width": 385
      },
      "needs_background": "light"
     },
     "output_type": "display_data"
    },
    {
     "data": {
      "image/png": "[encoded data removed]",
      "text/plain": [
       "<Figure size 432x288 with 1 Axes>"
      ]
     },
     "metadata": {
      "image/png": {
       "height": 277,
       "width": 408
      },
      "needs_background": "light"
     },
     "output_type": "display_data"
    }
   ],
   "source": [
    "plot = sns.regplot(df_cleaned['Uniform Spend'],df_cleaned['Impressions'])\n",
    "plot.set_title(\"Impressions Vs Spend\")\n",
    "plt.show()\n",
    "\n",
    "sns.regplot(data=df_cleaned, x=\"Average Impression\",\n",
    "            y=\"Uniform Spend\").set_title(\"Average Impression vs. Spend without outliers\")\n",
    "plt.show()"
   ]
  },
  {
   "cell_type": "markdown",
   "metadata": {},
   "source": [
    "We also want to know whether other variables are also related to the average impressions. We investigate the number of interest, number of the radius and number of the language targeted. We find that the number of radius and interest are weakly related to average impressions in a postive direction, while the num of language has no effect. Then we can conclude that advertisement which has a large-reach tends to have a higher number of targeted interest and radius."
   ]
  },
  {
   "cell_type": "code",
   "execution_count": 750,
   "metadata": {},
   "outputs": [
    {
     "data": {
      "image/png": "[encoded data removed]",
      "text/plain": [
       "<Figure size 864x360 with 3 Axes>"
      ]
     },
     "metadata": {
      "image/png": {
       "height": 316,
       "width": 717
      },
      "needs_background": "light"
     },
     "output_type": "display_data"
    }
   ],
   "source": [
    "fig, axes = plt.subplots(1, 3, figsize=(12,5))\n",
    "df_cleaned['num of Radius'] = df_cleaned[\"Radius Targeting (Included)\"].str.count(\"radius\")\n",
    "df_cleaned['num of Interest'] = df_cleaned[\"Interests\"].str.count(\",\") + 1\n",
    "sns.regplot(df_cleaned['num of Interest'],df_cleaned['Average Impression'], ax=axes[0])\n",
    "sns.regplot(df_cleaned['num of Radius'],df_cleaned['Average Impression'], ax=axes[1])\n",
    "df_cleaned['num of Language']=df_cleaned[\"Language\"].str.count(\",\") + 1\n",
    "df_cleaned['num of Language']=df_cleaned['num of Language'].replace({np.nan:0})\n",
    "sns.regplot(df_cleaned['num of Language'],df_cleaned['Average Impression'], ax=axes[2])\n",
    "plt.show()\n",
    "\n"
   ]
  },
  {
   "cell_type": "markdown",
   "metadata": {},
   "source": [
    "Then we define the top 25% as large-reach group we want to focus.Then for the top 25% countries with the most impressions, we find that most of them come from the United States."
   ]
  },
  {
   "cell_type": "code",
   "execution_count": 751,
   "metadata": {},
   "outputs": [
    {
     "data": {
      "image/png": "[encoded data removed]",
      "text/plain": [
       "<Figure size 432x288 with 1 Axes>"
      ]
     },
     "metadata": {
      "image/png": {
       "height": 379,
       "width": 375
      },
      "needs_background": "light"
     },
     "output_type": "display_data"
    }
   ],
   "source": [
    "df_cleaned['CountryCode']=df_cleaned['CountryCode'].str.title()\n",
    "df_cleaned['CountryCode'] =df_cleaned['CountryCode'].replace({'United States':'United States of America',\n",
    "                                                               'United Kingdom':'United Kingdom'})\n",
    "percent_25 = df_cleaned.sort_values('Average Impression',ascending = False).iloc[:(int)(df_cleaned.shape[0]*0.25)]\n",
    "top_country = percent_25['CountryCode'].value_counts().head()\n",
    "top_country.plot(kind=\"bar\", title=\"Country with most Impressions\")\n",
    "plt.show()"
   ]
  },
  {
   "cell_type": "markdown",
   "metadata": {},
   "source": [
    "However, it changes a bit when we analyze the mean of average impressions of each country. We find that France and United Arab Emirates has the higher average Impression,which means they have a better quality of advertisments."
   ]
  },
  {
   "cell_type": "code",
   "execution_count": 752,
   "metadata": {},
   "outputs": [
    {
     "data": {
      "text/html": [
       "<div>\n",
       "<style scoped>\n",
       "    .dataframe tbody tr th:only-of-type {\n",
       "        vertical-align: middle;\n",
       "    }\n",
       "\n",
       "    .dataframe tbody tr th {\n",
       "        vertical-align: top;\n",
       "    }\n",
       "\n",
       "    .dataframe thead th {\n",
       "        text-align: right;\n",
       "    }\n",
       "</style>\n",
       "<table border=\"1\" class=\"dataframe\">\n",
       "  <thead>\n",
       "    <tr style=\"text-align: right;\">\n",
       "      <th></th>\n",
       "      <th>CountryCode</th>\n",
       "      <th>Average Impression</th>\n",
       "    </tr>\n",
       "  </thead>\n",
       "  <tbody>\n",
       "    <tr>\n",
       "      <th>9</th>\n",
       "      <td>France</td>\n",
       "      <td>6.804141</td>\n",
       "    </tr>\n",
       "    <tr>\n",
       "      <th>26</th>\n",
       "      <td>United Arab Emirates</td>\n",
       "      <td>5.561396</td>\n",
       "    </tr>\n",
       "    <tr>\n",
       "      <th>1</th>\n",
       "      <td>Australia</td>\n",
       "      <td>2.081970</td>\n",
       "    </tr>\n",
       "    <tr>\n",
       "      <th>10</th>\n",
       "      <td>Germany</td>\n",
       "      <td>1.541802</td>\n",
       "    </tr>\n",
       "    <tr>\n",
       "      <th>27</th>\n",
       "      <td>United Kingdom</td>\n",
       "      <td>1.448720</td>\n",
       "    </tr>\n",
       "  </tbody>\n",
       "</table>\n",
       "</div>"
      ],
      "text/plain": [
       "             CountryCode  Average Impression\n",
       "9                 France            6.804141\n",
       "26  United Arab Emirates            5.561396\n",
       "1              Australia            2.081970\n",
       "10               Germany            1.541802\n",
       "27        United Kingdom            1.448720"
      ]
     },
     "execution_count": 752,
     "metadata": {},
     "output_type": "execute_result"
    }
   ],
   "source": [
    "df_country = df_cleaned.groupby('CountryCode')['Average Impression'].mean().to_frame().reset_index()\n",
    "df_country=df_country.sort_values('Average Impression',ascending = False)\n",
    "df_country.head()"
   ]
  },
  {
   "cell_type": "markdown",
   "metadata": {},
   "source": [
    "####  Which group is targeted most by the advertisement"
   ]
  },
  {
   "cell_type": "markdown",
   "metadata": {},
   "source": [
    "We first search for the most targeted Electoral Districts. It shows that Colorado and Florida become the  most targeted Electoral Districts."
   ]
  },
  {
   "cell_type": "code",
   "execution_count": 755,
   "metadata": {
    "scrolled": true
   },
   "outputs": [
    {
     "data": {
      "text/plain": [
       "Colorado 6th District    21\n",
       "Colorado 1st District    21\n",
       "Colorado 2nd District    21\n",
       "Florida 26th District    21\n",
       "Florida 27th District    21\n",
       "dtype: int64"
      ]
     },
     "execution_count": 755,
     "metadata": {},
     "output_type": "execute_result"
    }
   ],
   "source": [
    "all_electoral_dist = df_cleaned[\"Electoral Districts (Included)\"].dropna().str.split(\",\").sum()\n",
    "pd.Series(all_electoral_dist).value_counts().head()"
   ]
  },
  {
   "cell_type": "markdown",
   "metadata": {},
   "source": [
    "Then we find that Minnesota and Virginia become the  most targeted Regions. Our first two findings are quite reasonable because Florida, Colorado and Virginia are some neutral states in elections that both sides want to get more vote from these states, so more advertising are taken."
   ]
  },
  {
   "cell_type": "code",
   "execution_count": 756,
   "metadata": {},
   "outputs": [
    {
     "data": {
      "text/plain": [
       "Minnesota    334\n",
       "Virginia     104\n",
       "Colorado      86\n",
       "Arizona       76\n",
       "Georgia       76\n",
       "dtype: int64"
      ]
     },
     "execution_count": 756,
     "metadata": {},
     "output_type": "execute_result"
    }
   ],
   "source": [
    "all_regions = df_cleaned[\"Regions (Included)\"].dropna().str.split(\",\").sum()\n",
    "region_count = len(set(all_regions))\n",
    "pd.Series(all_regions).value_counts().head()"
   ]
  },
  {
   "cell_type": "markdown",
   "metadata": {},
   "source": [
    "We combine the minority of targeted language together, and we find that the most targeted language is English.It takes up nearly 70% since most countries the data includes are English-speaking countries."
   ]
  },
  {
   "cell_type": "code",
   "execution_count": 757,
   "metadata": {},
   "outputs": [
    {
     "data": {
      "image/png": "[encoded data removed]",
      "text/plain": [
       "<Figure size 432x288 with 1 Axes>"
      ]
     },
     "metadata": {
      "image/png": {
       "height": 231,
       "width": 244
      }
     },
     "output_type": "display_data"
    }
   ],
   "source": [
    "lan = pd.Series(df_cleaned[\"Language\"].str.split(\",\").dropna().sum()).value_counts()\n",
    "others = pd.Series(lan[4:].sum(),index = ['others'])\n",
    "lan = lan[0:4].append(others)\n",
    "plt.pie(lan,labels=lan.index, autopct='%1.2f')\n",
    "plt.show()\n"
   ]
  },
  {
   "cell_type": "markdown",
   "metadata": {},
   "source": [
    "Then we find that in single-gender targeted data, most advertisments choose to focus on female audiences. We make a guess that since nowadays more equal-right activities are being hold and female voters become a really strong force during the election."
   ]
  },
  {
   "cell_type": "code",
   "execution_count": 758,
   "metadata": {},
   "outputs": [
    {
     "data": {
      "image/png": "[encoded data removed]",
      "text/plain": [
       "<Figure size 432x288 with 1 Axes>"
      ]
     },
     "metadata": {
      "image/png": {
       "height": 293,
       "width": 375
      },
      "needs_background": "light"
     },
     "output_type": "display_data"
    }
   ],
   "source": [
    "gender_count = df_cleaned.dropna(subset=[\"Gender\"])['Gender'].value_counts()\n",
    "gender_count.plot(kind=\"bar\", title=\"Gender Frequency in Single Gender Campaigns\")\n",
    "plt.show()"
   ]
  },
  {
   "cell_type": "markdown",
   "metadata": {},
   "source": [
    "We also see that for advertisments in different spending range, more advertisements choose to focus on female target no matter what spend range they are in."
   ]
  },
  {
   "cell_type": "code",
   "execution_count": 759,
   "metadata": {},
   "outputs": [
    {
     "data": {
      "text/html": [
       "<div>\n",
       "<style scoped>\n",
       "    .dataframe tbody tr th:only-of-type {\n",
       "        vertical-align: middle;\n",
       "    }\n",
       "\n",
       "    .dataframe tbody tr th {\n",
       "        vertical-align: top;\n",
       "    }\n",
       "\n",
       "    .dataframe thead th {\n",
       "        text-align: right;\n",
       "    }\n",
       "</style>\n",
       "<table border=\"1\" class=\"dataframe\">\n",
       "  <thead>\n",
       "    <tr style=\"text-align: right;\">\n",
       "      <th>Gender</th>\n",
       "      <th>ALL</th>\n",
       "      <th>FEMALE</th>\n",
       "      <th>MALE</th>\n",
       "    </tr>\n",
       "    <tr>\n",
       "      <th>spend_range</th>\n",
       "      <th></th>\n",
       "      <th></th>\n",
       "      <th></th>\n",
       "    </tr>\n",
       "  </thead>\n",
       "  <tbody>\n",
       "    <tr>\n",
       "      <th>(-0.001, 27.5]</th>\n",
       "      <td>813</td>\n",
       "      <td>27</td>\n",
       "      <td>14</td>\n",
       "    </tr>\n",
       "    <tr>\n",
       "      <th>(27.5, 113.0]</th>\n",
       "      <td>800</td>\n",
       "      <td>54</td>\n",
       "      <td>4</td>\n",
       "    </tr>\n",
       "    <tr>\n",
       "      <th>(113.0, 344.2]</th>\n",
       "      <td>744</td>\n",
       "      <td>74</td>\n",
       "      <td>31</td>\n",
       "    </tr>\n",
       "    <tr>\n",
       "      <th>(344.2, 987.44]</th>\n",
       "      <td>742</td>\n",
       "      <td>83</td>\n",
       "      <td>28</td>\n",
       "    </tr>\n",
       "    <tr>\n",
       "      <th>(987.44, 451244.0]</th>\n",
       "      <td>784</td>\n",
       "      <td>55</td>\n",
       "      <td>15</td>\n",
       "    </tr>\n",
       "  </tbody>\n",
       "</table>\n",
       "</div>"
      ],
      "text/plain": [
       "Gender              ALL  FEMALE  MALE\n",
       "spend_range                          \n",
       "(-0.001, 27.5]      813      27    14\n",
       "(27.5, 113.0]       800      54     4\n",
       "(113.0, 344.2]      744      74    31\n",
       "(344.2, 987.44]     742      83    28\n",
       "(987.44, 451244.0]  784      55    15"
      ]
     },
     "metadata": {},
     "output_type": "display_data"
    }
   ],
   "source": [
    "spend_range = df_cleaned.assign(spend_range = pd.qcut(df_cleaned['Uniform Spend'],5))\n",
    "spend_range['Gender'] = spend_range['Gender'].replace(np.nan,'ALL')\n",
    "gender_spend = spend_range.pivot_table(columns= 'Gender',index = 'spend_range',\n",
    "                                       values= 'Impressions', aggfunc = 'count')\n",
    "display(gender_spend)"
   ]
  },
  {
   "cell_type": "markdown",
   "metadata": {},
   "source": [
    "Then we find that Green Living Enthusiasts, Political News Watchers and Advocates & Activists are the most targeted interest of all the advertisment. These three kinds of people are the ones who engage the political events frequently and the main participants in the election."
   ]
  },
  {
   "cell_type": "code",
   "execution_count": 760,
   "metadata": {},
   "outputs": [
    {
     "data": {
      "text/plain": [
       "Green Living Enthusiasts    350\n",
       "Political News Watchers     343\n",
       "Advocates & Activists       317\n",
       "Hipsters & Trendsetters     265\n",
       "Philanthropists             261\n",
       "dtype: int64"
      ]
     },
     "execution_count": 760,
     "metadata": {},
     "output_type": "execute_result"
    }
   ],
   "source": [
    "interests = df_cleaned[\"Interests\"].dropna().str.split(\",\").sum()\n",
    "interest_count = len(set(interests))\n",
    "pd.Series(all_interests).value_counts().head()"
   ]
  },
  {
   "cell_type": "markdown",
   "metadata": {},
   "source": [
    "### Assessment of Missingness"
   ]
  },
  {
   "cell_type": "markdown",
   "metadata": {},
   "source": [
    "As we analyzed in EDA part, we find an obvious relationship between Spend and Impressions. We also find there are many entries in columns 'EndDate' are missing(about 777 rows in the dataset). We try to find whether the missingness of end date of the advertisement is depend on the Impressions columns"
   ]
  },
  {
   "cell_type": "code",
   "execution_count": 761,
   "metadata": {},
   "outputs": [
    {
     "data": {
      "text/plain": [
       "777"
      ]
     },
     "execution_count": 761,
     "metadata": {},
     "output_type": "execute_result"
    }
   ],
   "source": [
    "# The number of missingness in this columns\n",
    "pd.isna(df_cleaned['EndDate']).sum()"
   ]
  },
  {
   "cell_type": "code",
   "execution_count": 762,
   "metadata": {},
   "outputs": [],
   "source": [
    "#We first labelwhether the entry is null\n",
    "end_null = df_cleaned.assign(end_isnull = pd.isna(df_cleaned.EndDate))\n"
   ]
  },
  {
   "cell_type": "code",
   "execution_count": 763,
   "metadata": {},
   "outputs": [
    {
     "data": {
      "text/plain": [
       "432460.4384851357"
      ]
     },
     "execution_count": 763,
     "metadata": {},
     "output_type": "execute_result"
    }
   ],
   "source": [
    "#We observe a huge difference between null and non-null group in spending\n",
    "observation = end_null.groupby('end_isnull')['Impressions'].mean().diff().abs().iloc[-1]\n",
    "observation"
   ]
  },
  {
   "cell_type": "code",
   "execution_count": 764,
   "metadata": {},
   "outputs": [
    {
     "data": {
      "text/plain": [
       "0.028"
      ]
     },
     "execution_count": 764,
     "metadata": {},
     "output_type": "execute_result"
    }
   ],
   "source": [
    "#Shuffle for 1000 times and get the p-value\n",
    "means=[]\n",
    "for _ in range(1000):\n",
    "    shuffled_col = end_null['end_isnull'].sample(replace=False, frac=1).reset_index(drop=True)\n",
    "    shuffled = end_null.assign(**{'data': shuffled_col,})\n",
    "    mean = shuffled.groupby('data')['Impressions'].mean().diff().abs().iloc[-1]\n",
    "    means.append(mean)\n",
    "\n",
    "pval_mean = np.mean(means > observation)\n",
    "pval_mean"
   ]
  },
  {
   "cell_type": "code",
   "execution_count": 765,
   "metadata": {},
   "outputs": [
    {
     "data": {
      "image/png": "[encoded data removed]",
      "text/plain": [
       "<Figure size 432x288 with 1 Axes>"
      ]
     },
     "metadata": {
      "image/png": {
       "height": 263,
       "width": 388
      },
      "needs_background": "light"
     },
     "output_type": "display_data"
    }
   ],
   "source": [
    "# We plot the p-value, which reject our null hypothesis\n",
    "pd.Series(means).plot(kind=\"hist\")\n",
    "plt.scatter(observation, 0, s=50, c=\"r\")\n",
    "plt.title(\"p-value = \" + str(pval_mean))\n",
    "plt.show()"
   ]
  },
  {
   "cell_type": "markdown",
   "metadata": {},
   "source": [
    " We also try to find whether the missingness of end date of the advertisement is depend on the Spend columns since we have proved the Spend column and Impressions column are related."
   ]
  },
  {
   "cell_type": "code",
   "execution_count": 766,
   "metadata": {},
   "outputs": [
    {
     "data": {
      "text/plain": [
       "0.2724365319610235"
      ]
     },
     "execution_count": 766,
     "metadata": {},
     "output_type": "execute_result"
    }
   ],
   "source": [
    "#Calculate the k-s statistic between null and non-null group\n",
    "from scipy.stats import ks_2samp\n",
    "gpA = end_null.loc[end_null.end_isnull == True, 'Uniform Spend']\n",
    "gpB =end_null.loc[end_null.end_isnull== False, 'Uniform Spend']\n",
    "obs = ks_2samp(gpA, gpB).statistic\n",
    "obs"
   ]
  },
  {
   "cell_type": "code",
   "execution_count": 767,
   "metadata": {
    "ExecuteTime": {
     "end_time": "2019-10-31T23:36:28.662099Z",
     "start_time": "2019-10-31T23:36:28.660016Z"
    }
   },
   "outputs": [
    {
     "data": {
      "text/plain": [
       "0.0"
      ]
     },
     "execution_count": 767,
     "metadata": {},
     "output_type": "execute_result"
    }
   ],
   "source": [
    "#Shuffle for 500 times and get the p-value\n",
    "ks_list = []\n",
    "for _ in range(500):\n",
    "    shuffled_col = end_null.EndDate.sample(replace=False, frac=1).reset_index(drop=True)\n",
    "    shuffled = end_null.assign(**{'data': shuffled_col,})\n",
    "    gpA = shuffled.loc[pd.isna(shuffled.data) == True, 'Uniform Spend']\n",
    "    gpB = shuffled.loc[pd.isna(shuffled.data)== False, 'Uniform Spend']\n",
    "    ks = ks_2samp(gpA, gpB).statistic\n",
    "    ks_list.append(ks)\n",
    "pval_ks = np.mean(np.array(ks_list) > obs)\n",
    "pval_ks"
   ]
  },
  {
   "cell_type": "code",
   "execution_count": 768,
   "metadata": {},
   "outputs": [
    {
     "data": {
      "image/png": "[encoded data removed]",
      "text/plain": [
       "<Figure size 432x288 with 1 Axes>"
      ]
     },
     "metadata": {
      "image/png": {
       "height": 263,
       "width": 388
      },
      "needs_background": "light"
     },
     "output_type": "display_data"
    }
   ],
   "source": [
    "# We plot the p-value, which reject our null hypothesis\n",
    "pd.Series(ks_list).plot(kind=\"hist\")\n",
    "plt.scatter(obs, 0, s=50, c=\"r\")\n",
    "plt.title(\"p-value = \" + str(pval_ks))\n",
    "plt.show()"
   ]
  },
  {
   "cell_type": "markdown",
   "metadata": {},
   "source": [
    "### Hypothesis Test"
   ]
  },
  {
   "cell_type": "markdown",
   "metadata": {},
   "source": [
    "In the EDA part, we noticed that the proportion of female-targeted advertisements is quite high in singe-gender-targeted ads. However, we also observed that male-targeted advertisements have a higher impression than female-targeted. We then adopted a hypothesis test to test whether the difference is by chance."
   ]
  },
  {
   "cell_type": "code",
   "execution_count": 769,
   "metadata": {},
   "outputs": [
    {
     "data": {
      "text/plain": [
       "Gender\n",
       "FEMALE    293\n",
       "MALE       92\n",
       "Name: Impressions, dtype: int64"
      ]
     },
     "execution_count": 769,
     "metadata": {},
     "output_type": "execute_result"
    }
   ],
   "source": [
    "#We first drop null values\n",
    "gender_cleaned = df_cleaned.dropna(subset=['Gender'])\n",
    "gender_cleaned.groupby('Gender')['Impressions'].count()"
   ]
  },
  {
   "cell_type": "code",
   "execution_count": 770,
   "metadata": {},
   "outputs": [
    {
     "data": {
      "text/plain": [
       "Gender\n",
       "FEMALE    353398.225256\n",
       "MALE      457353.847826\n",
       "Name: Impressions, dtype: float64"
      ]
     },
     "execution_count": 770,
     "metadata": {},
     "output_type": "execute_result"
    }
   ],
   "source": [
    "#calculate the observed difference\n",
    "observed = gender_cleaned.groupby('Gender')['Impressions'].mean()\n",
    "observed"
   ]
  },
  {
   "cell_type": "code",
   "execution_count": 771,
   "metadata": {},
   "outputs": [
    {
     "data": {
      "text/plain": [
       "103955.62257011427"
      ]
     },
     "execution_count": 771,
     "metadata": {},
     "output_type": "execute_result"
    }
   ],
   "source": [
    "observation = observed.diff().abs().iloc[-1]\n",
    "observation"
   ]
  },
  {
   "cell_type": "code",
   "execution_count": 772,
   "metadata": {},
   "outputs": [
    {
     "data": {
      "text/plain": [
       "0.624"
      ]
     },
     "execution_count": 772,
     "metadata": {},
     "output_type": "execute_result"
    }
   ],
   "source": [
    "#We shuffle for 1000 times and get the p-value\n",
    "means=[]\n",
    "for _ in range(1000):\n",
    "    shuffled_col = gender_cleaned['Impressions'].sample(replace=False, frac=1).reset_index(drop=True)\n",
    "    shuffled = end_null.assign(**{'data': shuffled_col,})\n",
    "    mean = shuffled.groupby('data')['Impressions'].mean().diff().abs().iloc[-1]\n",
    "    means.append(mean)\n",
    "\n",
    "pval = np.mean(means > observation)\n",
    "pval"
   ]
  },
  {
   "cell_type": "code",
   "execution_count": 773,
   "metadata": {
    "scrolled": true
   },
   "outputs": [
    {
     "data": {
      "image/png": "[encoded data removed]",
      "text/plain": [
       "<Figure size 432x288 with 1 Axes>"
      ]
     },
     "metadata": {
      "image/png": {
       "height": 276,
       "width": 388
      },
      "needs_background": "light"
     },
     "output_type": "display_data"
    }
   ],
   "source": [
    "# We plot the p-value, which fail to reject our null hypothesis\n",
    "pd.Series(means).plot(kind=\"hist\")\n",
    "plt.scatter(observation, 0, s=50, c=\"r\")\n",
    "plt.title(\"p-value = \" + str(pval))\n",
    "plt.show()"
   ]
  },
  {
   "cell_type": "markdown",
   "metadata": {},
   "source": [
    "## 2. Features Engineering\n",
    "\n",
    "\n",
    "### Introduction\n",
    "\n",
    "In this part, we plan to predict the target gender using the other variables in the dataset. Specifically, we want to predict whether the advertisement is targeting to a single gender or is targeting to all genders using classification. We choose to predict the gender type because we notice that large difference are presented in some quantitative variables for single-gender targeted ads and all-gender targeted ads, espectially for the mean of 'spend' and 'impressions' columns. We want to see if the difference present in other columns in order to make the prediction. <br>\n",
    "This prediction problem should be a classification problem, we set 0 for all-gender targeted advertisement and 1 for single-gender targeted advertisement, and try to classify the advertisement to one of the category. <br>\n",
    "To evaluate our method, we use metrics to see the overall performance including f1 score of each group to see whether the model predict well for both groups. We also introduce the classification_report to analyze the prediction power and keep an eye on the accuracy (the precision score) to make sure that the precision of our model does not change much while improving the f1 score.\n",
    "\n",
    "### Baseline Model\n",
    "In our baseline model, we drop the variables 'StartDate', EndDate', and all the variables with more than 90% null values. We understand that it's hard to munipulate time and the time will not contribute much in our classfication, also we only want to use the columns that are representative and with enough information. <br>\n",
    "Finally, we use 12 nominal features, 'Currency Code','CountryCode','Segments','Interests', 'Regions (Included)','Language','PayingAdvertiserName','BillingAddress','OrganizationName','CandidateBallotInformation','Postal Codes (Included)','AgeBracket', and 2 quantitative features, 'Spend', 'Impressions' to make the prediction. <br>\n",
    "We then use ColumnTransformer to first transform the categorical variables using OneHotEncoder. Then we use a RandomForestClassifer to do the calssification since it has a higher precision in the classification models. We split our data to train set and test set to check the performance of our model.<br>\n",
    "Our model performs pretty good with accuracy_score of 0.96. This score means majority of the advertisement had been predicted correctly. However,though the model is highly accurate in predicting ads targeting both gender, it tends to wrongly predict ads targeting a single gender. The precision when predict ads targeting a single gender is only 0.88, while the f1 score of advertisment targeting single gender is only 0.8.This is far below than the precision score and f1 score of the ads targeting to both genders, which are 0.97 and 0.98 respectively. The difference between the score of two groups meaning that we should improve our model to find a balance.\n",
    "\n",
    "### Final Model\n",
    "Based on our baseline model, we do some feature engineering:\n",
    "- we first change the 'AgeBracket' feature into ordinal feature by grouping the age range into 6 number: 0-all, 1-'young+mid', 2-'mid',3-'young', 4-'mid+old',5-'old'. We believe by reducing the number of groups and change it into a ordianl feature will increase the predictiong power. \n",
    "- Also, besides using the \"Interests\",\"Postal Codes (Included)\",\"Regions (Included)\" columns as categorigal variables, we use them in quantitative feature. We process them into the number of appeared different interestes, postal code, and regions respectively in order to know how specific the ads's targets are.\n",
    "- We calculate Uniform Spending by transform the Spending to same currency. This transformation helps us better capture the characteristic of spending on ads.\n",
    "- We also include the Duration, which caculate by find the difference between Start date and End date, to better show the effect of time. Thus, our new model has 3 quantitative features, 1 ordinal feature, and 11 nomial features.\n",
    "- Since other categorical columns are somtimes related,we introduce PCA to better eliminate the impact between features after onehotencoding the categorical columns. <br>\n",
    "Then we repeat the same steps to build the pipeline, use the same classifier and split our data to check the performance as the baseline model .\n",
    "The final model has an accuracy over 97%, while improving the performance when predicting single-gender-targeted advertisemnt with a precision score of 95%。\n",
    "For selecting parameters,we adopt GridSearchCV with 5-fold cross validation to select the best parameter. We test on 'RFC__max_depth' and 'RFC__max_leaf_nodes. By comparing several different parameter, our decision is the default parameter \"None\", and gives us a final score of 0.97. Thus, we keep this model as our final model. Though there is still a small difference, the f1-scores for ads targeting single-gender and both are 88% and 98%, which is more reasonable and balanced than 80% and 98% in the baseline model. In conclusion, we successfully improved our model though there are still difference between two groups' scores. If we can have more data of ads targeting to singer gender, our model could be more accurate.\n",
    "\n",
    "### Fairness Evaluation\n",
    "We will choose the Spending as the subset and explore whether the final model is fairer for ads targeting a cheap/expensive advertisement. With the Uniform Spending feature we created for the final model, we will use median spending as the threshold, deeming spending less than median as cheap and higher than median as expensive. <br>\n",
    "Then we perform a permutation test. We will use the absolute difference between the accuracy score of cheap advertisement and expensive advertisement and our significance level is 0.05\n",
    "- H0: The final model is fair in predicting ads targeting wide or narrow age range. The accuracy score for advertisement with different spending is roughly the same.\n",
    "- H1:  The final model is unfair in predicting ads targeting wide or narrow age range. The accuracy score for cheap ads is higher than that of expensive ads\n",
    "\n",
    "We create the column \"is_expensive\" with the Uniform Spending column. After a 500-shuffling test, we get a p-value of 0.78 for accuracy test. Thus, we will not reject the null hypothesis and conclude that the model is likely to be fair in treating ads with different spending."
   ]
  },
  {
   "cell_type": "markdown",
   "metadata": {},
   "source": [
    "# Code"
   ]
  },
  {
   "cell_type": "code",
   "execution_count": 1,
   "metadata": {},
   "outputs": [],
   "source": [
    "import matplotlib.pyplot as plt\n",
    "import numpy as np\n",
    "import os\n",
    "import pandas as pd\n",
    "import seaborn as sns\n",
    "%matplotlib inline\n",
    "%config InlineBackend.figure_format = 'retina'  # Higher resolution figures\n"
   ]
  },
  {
   "cell_type": "code",
   "execution_count": 21,
   "metadata": {},
   "outputs": [],
   "source": [
    "from sklearn.ensemble import RandomForestClassifier\n",
    "from sklearn.preprocessing import OrdinalEncoder\n",
    "from sklearn.linear_model import LinearRegression\n",
    "from sklearn.preprocessing import FunctionTransformer\n",
    "from sklearn.preprocessing import OneHotEncoder\n",
    "from sklearn.pipeline import Pipeline\n",
    "from sklearn.compose import ColumnTransformer\n",
    "\n",
    "from sklearn.tree import DecisionTreeRegressor\n",
    "from sklearn.model_selection import train_test_split\n",
    "from sklearn.neighbors import KNeighborsRegressor\n",
    "from sklearn.model_selection import train_test_split\n",
    "from sklearn.tree import DecisionTreeClassifier\n",
    "from sklearn.decomposition import PCA\n",
    "from sklearn import metrics \n",
    "from sklearn.metrics import classification_report"
   ]
  },
  {
   "cell_type": "markdown",
   "metadata": {},
   "source": [
    "### Clean and EDA\n",
    "First, we combine the two dataset."
   ]
  },
  {
   "cell_type": "code",
   "execution_count": 295,
   "metadata": {},
   "outputs": [
    {
     "data": {
      "text/html": [
       "<div>\n",
       "<style scoped>\n",
       "    .dataframe tbody tr th:only-of-type {\n",
       "        vertical-align: middle;\n",
       "    }\n",
       "\n",
       "    .dataframe tbody tr th {\n",
       "        vertical-align: top;\n",
       "    }\n",
       "\n",
       "    .dataframe thead th {\n",
       "        text-align: right;\n",
       "    }\n",
       "</style>\n",
       "<table border=\"1\" class=\"dataframe\">\n",
       "  <thead>\n",
       "    <tr style=\"text-align: right;\">\n",
       "      <th></th>\n",
       "      <th>ADID</th>\n",
       "      <th>CreativeUrl</th>\n",
       "      <th>Currency Code</th>\n",
       "      <th>Spend</th>\n",
       "      <th>Impressions</th>\n",
       "      <th>StartDate</th>\n",
       "      <th>EndDate</th>\n",
       "      <th>OrganizationName</th>\n",
       "      <th>BillingAddress</th>\n",
       "      <th>CandidateBallotInformation</th>\n",
       "      <th>...</th>\n",
       "      <th>Location Categories (Included)</th>\n",
       "      <th>Location Categories (Excluded)</th>\n",
       "      <th>Interests</th>\n",
       "      <th>OsType</th>\n",
       "      <th>Segments</th>\n",
       "      <th>Language</th>\n",
       "      <th>AdvancedDemographics</th>\n",
       "      <th>Targeting Connection Type</th>\n",
       "      <th>Targeting Carrier (ISP)</th>\n",
       "      <th>CreativeProperties</th>\n",
       "    </tr>\n",
       "  </thead>\n",
       "  <tbody>\n",
       "    <tr>\n",
       "      <th>0</th>\n",
       "      <td>ec8502b1458cc1f3ae6c6595f5945a02d1a40d07bd2047...</td>\n",
       "      <td>https://www.snap.com/political-ads/asset/1741e...</td>\n",
       "      <td>USD</td>\n",
       "      <td>60</td>\n",
       "      <td>15116</td>\n",
       "      <td>2018/12/01 17:37:07Z</td>\n",
       "      <td>2019/01/10 22:51:08Z</td>\n",
       "      <td>LPM</td>\n",
       "      <td>GB</td>\n",
       "      <td>NaN</td>\n",
       "      <td>...</td>\n",
       "      <td>NaN</td>\n",
       "      <td>NaN</td>\n",
       "      <td>NaN</td>\n",
       "      <td>NaN</td>\n",
       "      <td>Provided by Advertiser</td>\n",
       "      <td>NaN</td>\n",
       "      <td>NaN</td>\n",
       "      <td>NaN</td>\n",
       "      <td>NaN</td>\n",
       "      <td>web_view_url:http://jidesanwoolu.ng</td>\n",
       "    </tr>\n",
       "    <tr>\n",
       "      <th>1</th>\n",
       "      <td>cb0e9e6fad9cf28867221f5be6acf08ec3946c5a44b940...</td>\n",
       "      <td>https://www.snap.com/political-ads/asset/51615...</td>\n",
       "      <td>EUR</td>\n",
       "      <td>673</td>\n",
       "      <td>223919</td>\n",
       "      <td>2018/09/02 09:59:57Z</td>\n",
       "      <td>2018/09/15 09:59:59Z</td>\n",
       "      <td>Media Agent</td>\n",
       "      <td>Østre alle 2 ,Værløse ,3500,DK</td>\n",
       "      <td>NaN</td>\n",
       "      <td>...</td>\n",
       "      <td>NaN</td>\n",
       "      <td>NaN</td>\n",
       "      <td>NaN</td>\n",
       "      <td>NaN</td>\n",
       "      <td>Provided by Advertiser</td>\n",
       "      <td>NaN</td>\n",
       "      <td>NaN</td>\n",
       "      <td>NaN</td>\n",
       "      <td>NaN</td>\n",
       "      <td>web_view_url:https://danskfolkeparti.dk</td>\n",
       "    </tr>\n",
       "    <tr>\n",
       "      <th>2</th>\n",
       "      <td>1f1ab192aa8cf2b1cd5daee80d42eed7f089b61a7a51ee...</td>\n",
       "      <td>https://www.snap.com/political-ads/asset/f4acf...</td>\n",
       "      <td>USD</td>\n",
       "      <td>996</td>\n",
       "      <td>94458</td>\n",
       "      <td>2018/10/18 20:06:52Z</td>\n",
       "      <td>2018/11/06 23:00:00Z</td>\n",
       "      <td>Bully Pulpit Interactive</td>\n",
       "      <td>1445 New York Ave NW,Washington,20005,US</td>\n",
       "      <td>NaN</td>\n",
       "      <td>...</td>\n",
       "      <td>NaN</td>\n",
       "      <td>NaN</td>\n",
       "      <td>NaN</td>\n",
       "      <td>NaN</td>\n",
       "      <td>NaN</td>\n",
       "      <td>NaN</td>\n",
       "      <td>NaN</td>\n",
       "      <td>NaN</td>\n",
       "      <td>NaN</td>\n",
       "      <td>NaN</td>\n",
       "    </tr>\n",
       "    <tr>\n",
       "      <th>3</th>\n",
       "      <td>28fc1aa27819556a773bdb3f524f6110df24eba930985d...</td>\n",
       "      <td>https://www.snap.com/political-ads/asset/fd7e9...</td>\n",
       "      <td>USD</td>\n",
       "      <td>2431</td>\n",
       "      <td>500887</td>\n",
       "      <td>2018/10/29 17:40:22Z</td>\n",
       "      <td>2018/11/04 04:00:00Z</td>\n",
       "      <td>ACRONYM</td>\n",
       "      <td>US</td>\n",
       "      <td>NaN</td>\n",
       "      <td>...</td>\n",
       "      <td>NaN</td>\n",
       "      <td>NaN</td>\n",
       "      <td>Advocates &amp; Activists,Basketball Fans,Bookworm...</td>\n",
       "      <td>NaN</td>\n",
       "      <td>Provided by Advertiser</td>\n",
       "      <td>NaN</td>\n",
       "      <td>NaN</td>\n",
       "      <td>NaN</td>\n",
       "      <td>NaN</td>\n",
       "      <td>web_view_url:https://plan.showupto.vote/</td>\n",
       "    </tr>\n",
       "    <tr>\n",
       "      <th>4</th>\n",
       "      <td>7d48bac22fa3e1ac4d5a77d6aa4c005dabfd33eafc560c...</td>\n",
       "      <td>https://www.snap.com/political-ads/asset/8892a...</td>\n",
       "      <td>CAD</td>\n",
       "      <td>224</td>\n",
       "      <td>137147</td>\n",
       "      <td>2018/07/20 23:09:54Z</td>\n",
       "      <td>2018/09/04 03:59:00Z</td>\n",
       "      <td>The Aber Group</td>\n",
       "      <td>202-120 Eglinton Avenue East,Toronto,M4P1E2,CA</td>\n",
       "      <td>NaN</td>\n",
       "      <td>...</td>\n",
       "      <td>NaN</td>\n",
       "      <td>NaN</td>\n",
       "      <td>NaN</td>\n",
       "      <td>NaN</td>\n",
       "      <td>NaN</td>\n",
       "      <td>en</td>\n",
       "      <td>NaN</td>\n",
       "      <td>NaN</td>\n",
       "      <td>NaN</td>\n",
       "      <td>web_view_url:https://plancanada.ca/ChangeTheBi...</td>\n",
       "    </tr>\n",
       "  </tbody>\n",
       "</table>\n",
       "<p>5 rows × 34 columns</p>\n",
       "</div>"
      ],
      "text/plain": [
       "                                                ADID  \\\n",
       "0  ec8502b1458cc1f3ae6c6595f5945a02d1a40d07bd2047...   \n",
       "1  cb0e9e6fad9cf28867221f5be6acf08ec3946c5a44b940...   \n",
       "2  1f1ab192aa8cf2b1cd5daee80d42eed7f089b61a7a51ee...   \n",
       "3  28fc1aa27819556a773bdb3f524f6110df24eba930985d...   \n",
       "4  7d48bac22fa3e1ac4d5a77d6aa4c005dabfd33eafc560c...   \n",
       "\n",
       "                                         CreativeUrl Currency Code  Spend  \\\n",
       "0  https://www.snap.com/political-ads/asset/1741e...           USD     60   \n",
       "1  https://www.snap.com/political-ads/asset/51615...           EUR    673   \n",
       "2  https://www.snap.com/political-ads/asset/f4acf...           USD    996   \n",
       "3  https://www.snap.com/political-ads/asset/fd7e9...           USD   2431   \n",
       "4  https://www.snap.com/political-ads/asset/8892a...           CAD    224   \n",
       "\n",
       "   Impressions             StartDate               EndDate  \\\n",
       "0        15116  2018/12/01 17:37:07Z  2019/01/10 22:51:08Z   \n",
       "1       223919  2018/09/02 09:59:57Z  2018/09/15 09:59:59Z   \n",
       "2        94458  2018/10/18 20:06:52Z  2018/11/06 23:00:00Z   \n",
       "3       500887  2018/10/29 17:40:22Z  2018/11/04 04:00:00Z   \n",
       "4       137147  2018/07/20 23:09:54Z  2018/09/04 03:59:00Z   \n",
       "\n",
       "           OrganizationName                                  BillingAddress  \\\n",
       "0                       LPM                                              GB   \n",
       "1               Media Agent                  Østre alle 2 ,Værløse ,3500,DK   \n",
       "2  Bully Pulpit Interactive        1445 New York Ave NW,Washington,20005,US   \n",
       "3                   ACRONYM                                              US   \n",
       "4            The Aber Group  202-120 Eglinton Avenue East,Toronto,M4P1E2,CA   \n",
       "\n",
       "  CandidateBallotInformation  ... Location Categories (Included)  \\\n",
       "0                        NaN  ...                            NaN   \n",
       "1                        NaN  ...                            NaN   \n",
       "2                        NaN  ...                            NaN   \n",
       "3                        NaN  ...                            NaN   \n",
       "4                        NaN  ...                            NaN   \n",
       "\n",
       "  Location Categories (Excluded)  \\\n",
       "0                            NaN   \n",
       "1                            NaN   \n",
       "2                            NaN   \n",
       "3                            NaN   \n",
       "4                            NaN   \n",
       "\n",
       "                                           Interests OsType  \\\n",
       "0                                                NaN    NaN   \n",
       "1                                                NaN    NaN   \n",
       "2                                                NaN    NaN   \n",
       "3  Advocates & Activists,Basketball Fans,Bookworm...    NaN   \n",
       "4                                                NaN    NaN   \n",
       "\n",
       "                 Segments Language AdvancedDemographics  \\\n",
       "0  Provided by Advertiser      NaN                  NaN   \n",
       "1  Provided by Advertiser      NaN                  NaN   \n",
       "2                     NaN      NaN                  NaN   \n",
       "3  Provided by Advertiser      NaN                  NaN   \n",
       "4                     NaN       en                  NaN   \n",
       "\n",
       "   Targeting Connection Type Targeting Carrier (ISP)  \\\n",
       "0                        NaN                     NaN   \n",
       "1                        NaN                     NaN   \n",
       "2                        NaN                     NaN   \n",
       "3                        NaN                     NaN   \n",
       "4                        NaN                     NaN   \n",
       "\n",
       "                                  CreativeProperties  \n",
       "0                web_view_url:http://jidesanwoolu.ng  \n",
       "1            web_view_url:https://danskfolkeparti.dk  \n",
       "2                                                NaN  \n",
       "3           web_view_url:https://plan.showupto.vote/  \n",
       "4  web_view_url:https://plancanada.ca/ChangeTheBi...  \n",
       "\n",
       "[5 rows x 34 columns]"
      ]
     },
     "execution_count": 295,
     "metadata": {},
     "output_type": "execute_result"
    }
   ],
   "source": [
    "code_2018 = pd.read_csv('PoliticalAds2018.csv')\n",
    "code_2019 = pd.read_csv('PoliticalAds2019.csv')\n",
    "df = pd.concat([code_2018,code_2019])\n",
    "df.head()"
   ]
  },
  {
   "cell_type": "markdown",
   "metadata": {},
   "source": [
    "Then we drop the unuseful columns and change the time columns. We also grouped the gender column to two groups: 0 for all-gender targeted and 1 for single-gender targeted"
   ]
  },
  {
   "cell_type": "code",
   "execution_count": 296,
   "metadata": {},
   "outputs": [],
   "source": [
    "#drop useless columns and calculate time\n",
    "df_cleaned=df.drop(columns=['ADID','CreativeUrl','CreativeProperties'])\n",
    "df_cleaned['StartDate']=pd.to_datetime(df_cleaned['StartDate'])\n",
    "df_cleaned['EndDate']=pd.to_datetime(df_cleaned['EndDate'])\n",
    "df_cleaned['StartDate']=df_cleaned['StartDate'].dt.tz_convert(None)\n",
    "df_cleaned['EndDate']=df_cleaned['EndDate'].dt.tz_convert(None)\n",
    "df_cleaned['Duration'] = df_cleaned[\"EndDate\"] - df_cleaned[\"StartDate\"]\n",
    "df_cleaned['Duration']=df_cleaned['Duration'].dt.total_seconds()\n",
    "df_cleaned['Duration'] = df_cleaned['Duration'].apply(lambda x: np.nan if x<0 else x)\n",
    "df_cleaned=df_cleaned.dropna(subset=['Duration'])\n"
   ]
  },
  {
   "cell_type": "code",
   "execution_count": 297,
   "metadata": {},
   "outputs": [],
   "source": [
    "# Clean names\n",
    "currency_dict = {\"USD\": 1, \"EUR\": 1.1, \"GBP\": 1.25, \"CAD\": 0.71, \"AUD\": 0.64}\n",
    "exchange_rate = df_cleaned['Currency Code'].replace(currency_dict)\n",
    "df_cleaned['Uniform Spend'] = df_cleaned['Spend']*exchange_rate\n",
    "df_cleaned['OrganizationName']=df_cleaned['OrganizationName'].str.title().str.strip()\n",
    "df_cleaned['CandidateBallotInformation']=df_cleaned['CandidateBallotInformation'].str.title().str.strip()\n",
    "df_cleaned['PayingAdvertiserName']=df_cleaned['PayingAdvertiserName'].str.title().str.strip()\n",
    "df_cleaned['Gender']=df_cleaned['Gender'].str.lower()\n"
   ]
  },
  {
   "cell_type": "code",
   "execution_count": 298,
   "metadata": {},
   "outputs": [
    {
     "data": {
      "text/html": [
       "<div>\n",
       "<style scoped>\n",
       "    .dataframe tbody tr th:only-of-type {\n",
       "        vertical-align: middle;\n",
       "    }\n",
       "\n",
       "    .dataframe tbody tr th {\n",
       "        vertical-align: top;\n",
       "    }\n",
       "\n",
       "    .dataframe thead th {\n",
       "        text-align: right;\n",
       "    }\n",
       "</style>\n",
       "<table border=\"1\" class=\"dataframe\">\n",
       "  <thead>\n",
       "    <tr style=\"text-align: right;\">\n",
       "      <th></th>\n",
       "      <th>Currency Code</th>\n",
       "      <th>Spend</th>\n",
       "      <th>Impressions</th>\n",
       "      <th>StartDate</th>\n",
       "      <th>EndDate</th>\n",
       "      <th>OrganizationName</th>\n",
       "      <th>BillingAddress</th>\n",
       "      <th>CandidateBallotInformation</th>\n",
       "      <th>PayingAdvertiserName</th>\n",
       "      <th>Gender</th>\n",
       "      <th>...</th>\n",
       "      <th>Location Categories (Excluded)</th>\n",
       "      <th>Interests</th>\n",
       "      <th>OsType</th>\n",
       "      <th>Segments</th>\n",
       "      <th>Language</th>\n",
       "      <th>AdvancedDemographics</th>\n",
       "      <th>Targeting Connection Type</th>\n",
       "      <th>Targeting Carrier (ISP)</th>\n",
       "      <th>Duration</th>\n",
       "      <th>Uniform Spend</th>\n",
       "    </tr>\n",
       "  </thead>\n",
       "  <tbody>\n",
       "    <tr>\n",
       "      <th>0</th>\n",
       "      <td>USD</td>\n",
       "      <td>60</td>\n",
       "      <td>15116</td>\n",
       "      <td>2018-12-01 17:37:07</td>\n",
       "      <td>2019-01-10 22:51:08</td>\n",
       "      <td>Lpm</td>\n",
       "      <td>GB</td>\n",
       "      <td>NaN</td>\n",
       "      <td>Sdm.Ng</td>\n",
       "      <td>NaN</td>\n",
       "      <td>...</td>\n",
       "      <td>NaN</td>\n",
       "      <td>NaN</td>\n",
       "      <td>NaN</td>\n",
       "      <td>Provided by Advertiser</td>\n",
       "      <td>NaN</td>\n",
       "      <td>NaN</td>\n",
       "      <td>NaN</td>\n",
       "      <td>NaN</td>\n",
       "      <td>3474841.0</td>\n",
       "      <td>60.00</td>\n",
       "    </tr>\n",
       "    <tr>\n",
       "      <th>1</th>\n",
       "      <td>EUR</td>\n",
       "      <td>673</td>\n",
       "      <td>223919</td>\n",
       "      <td>2018-09-02 09:59:57</td>\n",
       "      <td>2018-09-15 09:59:59</td>\n",
       "      <td>Media Agent</td>\n",
       "      <td>Østre alle 2 ,Værløse ,3500,DK</td>\n",
       "      <td>NaN</td>\n",
       "      <td>Dansk_Folkeparti</td>\n",
       "      <td>NaN</td>\n",
       "      <td>...</td>\n",
       "      <td>NaN</td>\n",
       "      <td>NaN</td>\n",
       "      <td>NaN</td>\n",
       "      <td>Provided by Advertiser</td>\n",
       "      <td>NaN</td>\n",
       "      <td>NaN</td>\n",
       "      <td>NaN</td>\n",
       "      <td>NaN</td>\n",
       "      <td>1123202.0</td>\n",
       "      <td>740.30</td>\n",
       "    </tr>\n",
       "    <tr>\n",
       "      <th>2</th>\n",
       "      <td>USD</td>\n",
       "      <td>996</td>\n",
       "      <td>94458</td>\n",
       "      <td>2018-10-18 20:06:52</td>\n",
       "      <td>2018-11-06 23:00:00</td>\n",
       "      <td>Bully Pulpit Interactive</td>\n",
       "      <td>1445 New York Ave NW,Washington,20005,US</td>\n",
       "      <td>NaN</td>\n",
       "      <td>Nextgen America</td>\n",
       "      <td>NaN</td>\n",
       "      <td>...</td>\n",
       "      <td>NaN</td>\n",
       "      <td>NaN</td>\n",
       "      <td>NaN</td>\n",
       "      <td>NaN</td>\n",
       "      <td>NaN</td>\n",
       "      <td>NaN</td>\n",
       "      <td>NaN</td>\n",
       "      <td>NaN</td>\n",
       "      <td>1651988.0</td>\n",
       "      <td>996.00</td>\n",
       "    </tr>\n",
       "    <tr>\n",
       "      <th>3</th>\n",
       "      <td>USD</td>\n",
       "      <td>2431</td>\n",
       "      <td>500887</td>\n",
       "      <td>2018-10-29 17:40:22</td>\n",
       "      <td>2018-11-04 04:00:00</td>\n",
       "      <td>Acronym</td>\n",
       "      <td>US</td>\n",
       "      <td>NaN</td>\n",
       "      <td>Show Up To Vote</td>\n",
       "      <td>female</td>\n",
       "      <td>...</td>\n",
       "      <td>NaN</td>\n",
       "      <td>Advocates &amp; Activists,Basketball Fans,Bookworm...</td>\n",
       "      <td>NaN</td>\n",
       "      <td>Provided by Advertiser</td>\n",
       "      <td>NaN</td>\n",
       "      <td>NaN</td>\n",
       "      <td>NaN</td>\n",
       "      <td>NaN</td>\n",
       "      <td>469178.0</td>\n",
       "      <td>2431.00</td>\n",
       "    </tr>\n",
       "    <tr>\n",
       "      <th>4</th>\n",
       "      <td>CAD</td>\n",
       "      <td>224</td>\n",
       "      <td>137147</td>\n",
       "      <td>2018-07-20 23:09:54</td>\n",
       "      <td>2018-09-04 03:59:00</td>\n",
       "      <td>The Aber Group</td>\n",
       "      <td>202-120 Eglinton Avenue East,Toronto,M4P1E2,CA</td>\n",
       "      <td>NaN</td>\n",
       "      <td>Plan International Canada</td>\n",
       "      <td>NaN</td>\n",
       "      <td>...</td>\n",
       "      <td>NaN</td>\n",
       "      <td>NaN</td>\n",
       "      <td>NaN</td>\n",
       "      <td>NaN</td>\n",
       "      <td>en</td>\n",
       "      <td>NaN</td>\n",
       "      <td>NaN</td>\n",
       "      <td>NaN</td>\n",
       "      <td>3905346.0</td>\n",
       "      <td>159.04</td>\n",
       "    </tr>\n",
       "  </tbody>\n",
       "</table>\n",
       "<p>5 rows × 33 columns</p>\n",
       "</div>"
      ],
      "text/plain": [
       "  Currency Code  Spend  Impressions           StartDate             EndDate  \\\n",
       "0           USD     60        15116 2018-12-01 17:37:07 2019-01-10 22:51:08   \n",
       "1           EUR    673       223919 2018-09-02 09:59:57 2018-09-15 09:59:59   \n",
       "2           USD    996        94458 2018-10-18 20:06:52 2018-11-06 23:00:00   \n",
       "3           USD   2431       500887 2018-10-29 17:40:22 2018-11-04 04:00:00   \n",
       "4           CAD    224       137147 2018-07-20 23:09:54 2018-09-04 03:59:00   \n",
       "\n",
       "           OrganizationName                                  BillingAddress  \\\n",
       "0                       Lpm                                              GB   \n",
       "1               Media Agent                  Østre alle 2 ,Værløse ,3500,DK   \n",
       "2  Bully Pulpit Interactive        1445 New York Ave NW,Washington,20005,US   \n",
       "3                   Acronym                                              US   \n",
       "4            The Aber Group  202-120 Eglinton Avenue East,Toronto,M4P1E2,CA   \n",
       "\n",
       "  CandidateBallotInformation       PayingAdvertiserName  Gender  ...  \\\n",
       "0                        NaN                     Sdm.Ng     NaN  ...   \n",
       "1                        NaN           Dansk_Folkeparti     NaN  ...   \n",
       "2                        NaN            Nextgen America     NaN  ...   \n",
       "3                        NaN            Show Up To Vote  female  ...   \n",
       "4                        NaN  Plan International Canada     NaN  ...   \n",
       "\n",
       "  Location Categories (Excluded)  \\\n",
       "0                            NaN   \n",
       "1                            NaN   \n",
       "2                            NaN   \n",
       "3                            NaN   \n",
       "4                            NaN   \n",
       "\n",
       "                                           Interests OsType  \\\n",
       "0                                                NaN    NaN   \n",
       "1                                                NaN    NaN   \n",
       "2                                                NaN    NaN   \n",
       "3  Advocates & Activists,Basketball Fans,Bookworm...    NaN   \n",
       "4                                                NaN    NaN   \n",
       "\n",
       "                 Segments Language  AdvancedDemographics  \\\n",
       "0  Provided by Advertiser      NaN                   NaN   \n",
       "1  Provided by Advertiser      NaN                   NaN   \n",
       "2                     NaN      NaN                   NaN   \n",
       "3  Provided by Advertiser      NaN                   NaN   \n",
       "4                     NaN       en                   NaN   \n",
       "\n",
       "  Targeting Connection Type Targeting Carrier (ISP)   Duration Uniform Spend  \n",
       "0                       NaN                     NaN  3474841.0         60.00  \n",
       "1                       NaN                     NaN  1123202.0        740.30  \n",
       "2                       NaN                     NaN  1651988.0        996.00  \n",
       "3                       NaN                     NaN   469178.0       2431.00  \n",
       "4                       NaN                     NaN  3905346.0        159.04  \n",
       "\n",
       "[5 rows x 33 columns]"
      ]
     },
     "execution_count": 298,
     "metadata": {},
     "output_type": "execute_result"
    }
   ],
   "source": [
    "df_cleaned.head()"
   ]
  },
  {
   "cell_type": "code",
   "execution_count": 299,
   "metadata": {},
   "outputs": [
    {
     "data": {
      "text/plain": [
       "Index(['Currency Code', 'Spend', 'Impressions', 'StartDate', 'EndDate',\n",
       "       'OrganizationName', 'BillingAddress', 'CandidateBallotInformation',\n",
       "       'PayingAdvertiserName', 'Gender', 'AgeBracket', 'CountryCode',\n",
       "       'Regions (Included)', 'Regions (Excluded)',\n",
       "       'Electoral Districts (Included)', 'Electoral Districts (Excluded)',\n",
       "       'Radius Targeting (Included)', 'Radius Targeting (Excluded)',\n",
       "       'Metros (Included)', 'Metros (Excluded)', 'Postal Codes (Included)',\n",
       "       'Postal Codes (Excluded)', 'Location Categories (Included)',\n",
       "       'Location Categories (Excluded)', 'Interests', 'OsType', 'Segments',\n",
       "       'Language', 'AdvancedDemographics', 'Targeting Connection Type',\n",
       "       'Targeting Carrier (ISP)', 'Duration', 'Uniform Spend'],\n",
       "      dtype='object')"
      ]
     },
     "execution_count": 299,
     "metadata": {},
     "output_type": "execute_result"
    }
   ],
   "source": [
    "df_cleaned.columns"
   ]
  },
  {
   "cell_type": "markdown",
   "metadata": {},
   "source": [
    "For variable about location the variable e only consider variable with'Included'since most of entries of the 'Exclueded'variable are null. We also drop the columns with most null values in it."
   ]
  },
  {
   "cell_type": "code",
   "execution_count": 300,
   "metadata": {},
   "outputs": [
    {
     "data": {
      "text/plain": [
       "Currency Code                     0.000000\n",
       "Duration                          0.000000\n",
       "CountryCode                       0.000000\n",
       "PayingAdvertiserName              0.000000\n",
       "BillingAddress                    0.000000\n",
       "Uniform Spend                     0.000000\n",
       "EndDate                           0.000000\n",
       "StartDate                         0.000000\n",
       "Impressions                       0.000000\n",
       "Spend                             0.000000\n",
       "OrganizationName                  0.000000\n",
       "AgeBracket                        0.067948\n",
       "Segments                          0.199391\n",
       "Language                          0.588566\n",
       "Interests                         0.598875\n",
       "Regions (Included)                0.622306\n",
       "Postal Codes (Included)           0.631443\n",
       "CandidateBallotInformation        0.681350\n",
       "Gender                            0.723758\n",
       "Radius Targeting (Included)       0.755155\n",
       "Metros (Included)                 0.771087\n",
       "AdvancedDemographics              0.789363\n",
       "Electoral Districts (Included)    0.796392\n",
       "Postal Codes (Excluded)           0.801078\n",
       "Regions (Excluded)                0.803421\n",
       "OsType                            0.806467\n",
       "Metros (Excluded)                 0.808575\n",
       "Radius Targeting (Excluded)       0.808810\n",
       "Location Categories (Included)    0.808810\n",
       "Location Categories (Excluded)    0.811153\n",
       "Electoral Districts (Excluded)    0.811621\n",
       "Targeting Connection Type         0.811621\n",
       "Targeting Carrier (ISP)           0.811621\n",
       "dtype: float64"
      ]
     },
     "execution_count": 300,
     "metadata": {},
     "output_type": "execute_result"
    }
   ],
   "source": [
    "(pd.isna(df_cleaned).sum(axis=0)/df.shape[0]).sort_values()"
   ]
  },
  {
   "cell_type": "code",
   "execution_count": 301,
   "metadata": {},
   "outputs": [],
   "source": [
    "# remove columns with above 90% null value\n",
    "df_cleaned =df_cleaned.drop(columns=['Radius Targeting (Included)','Metros (Included)','Postal Codes (Excluded)',\n",
    "                                    'AdvancedDemographics','Electoral Districts (Included)','Regions (Excluded)',\n",
    "                                    'OsType','Metros (Excluded)','Location Categories (Included)',\n",
    "                                    'Radius Targeting (Excluded)' ,'Location Categories (Excluded)',\n",
    "                                    'Targeting Carrier (ISP)', 'Targeting Connection Type' ,\n",
    "                                    'Electoral Districts (Excluded)'])"
   ]
  },
  {
   "cell_type": "code",
   "execution_count": 302,
   "metadata": {},
   "outputs": [],
   "source": [
    "df_cleaned=df_cleaned.fillna('all')\n",
    "df_cleaned['Gender']=df_cleaned['Gender'].apply(lambda x: 0 if x=='all' else 1)"
   ]
  },
  {
   "cell_type": "markdown",
   "metadata": {},
   "source": [
    "### Baseline Model"
   ]
  },
  {
   "cell_type": "markdown",
   "metadata": {},
   "source": [
    "We first create a columntransformer to convert categorical variables to onehotcode form. "
   ]
  },
  {
   "cell_type": "code",
   "execution_count": 303,
   "metadata": {},
   "outputs": [],
   "source": [
    "pl_one_hot = Pipeline(steps=[(\"onehot Encode\", OneHotEncoder(sparse=False,handle_unknown='ignore'))])\n",
    "one_hot_col =['Currency Code','CountryCode','Segments','Interests', 'Regions (Included)','Language',\n",
    "             'PayingAdvertiserName','BillingAddress','OrganizationName','CandidateBallotInformation',\n",
    "              'Postal Codes (Included)','AgeBracket'] \n",
    "column_trans = ColumnTransformer(\n",
    "      [(\"col_one\",pl_one_hot, one_hot_col)], remainder = 'passthrough')\n"
   ]
  },
  {
   "cell_type": "code",
   "execution_count": 304,
   "metadata": {},
   "outputs": [
    {
     "data": {
      "text/html": [
       "<div>\n",
       "<style scoped>\n",
       "    .dataframe tbody tr th:only-of-type {\n",
       "        vertical-align: middle;\n",
       "    }\n",
       "\n",
       "    .dataframe tbody tr th {\n",
       "        vertical-align: top;\n",
       "    }\n",
       "\n",
       "    .dataframe thead th {\n",
       "        text-align: right;\n",
       "    }\n",
       "</style>\n",
       "<table border=\"1\" class=\"dataframe\">\n",
       "  <thead>\n",
       "    <tr style=\"text-align: right;\">\n",
       "      <th></th>\n",
       "      <th>Currency Code</th>\n",
       "      <th>Spend</th>\n",
       "      <th>Impressions</th>\n",
       "      <th>StartDate</th>\n",
       "      <th>EndDate</th>\n",
       "      <th>OrganizationName</th>\n",
       "      <th>BillingAddress</th>\n",
       "      <th>CandidateBallotInformation</th>\n",
       "      <th>PayingAdvertiserName</th>\n",
       "      <th>Gender</th>\n",
       "      <th>AgeBracket</th>\n",
       "      <th>CountryCode</th>\n",
       "      <th>Regions (Included)</th>\n",
       "      <th>Postal Codes (Included)</th>\n",
       "      <th>Interests</th>\n",
       "      <th>Segments</th>\n",
       "      <th>Language</th>\n",
       "      <th>Duration</th>\n",
       "      <th>Uniform Spend</th>\n",
       "    </tr>\n",
       "  </thead>\n",
       "  <tbody>\n",
       "    <tr>\n",
       "      <th>0</th>\n",
       "      <td>USD</td>\n",
       "      <td>60</td>\n",
       "      <td>15116</td>\n",
       "      <td>2018-12-01 17:37:07</td>\n",
       "      <td>2019-01-10 22:51:08</td>\n",
       "      <td>Lpm</td>\n",
       "      <td>GB</td>\n",
       "      <td>all</td>\n",
       "      <td>Sdm.Ng</td>\n",
       "      <td>0</td>\n",
       "      <td>29+</td>\n",
       "      <td>nigeria</td>\n",
       "      <td>Lagos</td>\n",
       "      <td>all</td>\n",
       "      <td>all</td>\n",
       "      <td>Provided by Advertiser</td>\n",
       "      <td>all</td>\n",
       "      <td>3474841.0</td>\n",
       "      <td>60.00</td>\n",
       "    </tr>\n",
       "    <tr>\n",
       "      <th>1</th>\n",
       "      <td>EUR</td>\n",
       "      <td>673</td>\n",
       "      <td>223919</td>\n",
       "      <td>2018-09-02 09:59:57</td>\n",
       "      <td>2018-09-15 09:59:59</td>\n",
       "      <td>Media Agent</td>\n",
       "      <td>Østre alle 2 ,Værløse ,3500,DK</td>\n",
       "      <td>all</td>\n",
       "      <td>Dansk_Folkeparti</td>\n",
       "      <td>0</td>\n",
       "      <td>17+</td>\n",
       "      <td>denmark</td>\n",
       "      <td>all</td>\n",
       "      <td>all</td>\n",
       "      <td>all</td>\n",
       "      <td>Provided by Advertiser</td>\n",
       "      <td>all</td>\n",
       "      <td>1123202.0</td>\n",
       "      <td>740.30</td>\n",
       "    </tr>\n",
       "    <tr>\n",
       "      <th>2</th>\n",
       "      <td>USD</td>\n",
       "      <td>996</td>\n",
       "      <td>94458</td>\n",
       "      <td>2018-10-18 20:06:52</td>\n",
       "      <td>2018-11-06 23:00:00</td>\n",
       "      <td>Bully Pulpit Interactive</td>\n",
       "      <td>1445 New York Ave NW,Washington,20005,US</td>\n",
       "      <td>all</td>\n",
       "      <td>Nextgen America</td>\n",
       "      <td>0</td>\n",
       "      <td>18-34</td>\n",
       "      <td>united states</td>\n",
       "      <td>all</td>\n",
       "      <td>19007,19054,18960,18966,19002,18969,18976,1915...</td>\n",
       "      <td>all</td>\n",
       "      <td>all</td>\n",
       "      <td>all</td>\n",
       "      <td>1651988.0</td>\n",
       "      <td>996.00</td>\n",
       "    </tr>\n",
       "    <tr>\n",
       "      <th>3</th>\n",
       "      <td>USD</td>\n",
       "      <td>2431</td>\n",
       "      <td>500887</td>\n",
       "      <td>2018-10-29 17:40:22</td>\n",
       "      <td>2018-11-04 04:00:00</td>\n",
       "      <td>Acronym</td>\n",
       "      <td>US</td>\n",
       "      <td>all</td>\n",
       "      <td>Show Up To Vote</td>\n",
       "      <td>1</td>\n",
       "      <td>18+</td>\n",
       "      <td>united states</td>\n",
       "      <td>Florida,Michigan,Minnesota,Georgia,Wisconsin,P...</td>\n",
       "      <td>all</td>\n",
       "      <td>Advocates &amp; Activists,Basketball Fans,Bookworm...</td>\n",
       "      <td>Provided by Advertiser</td>\n",
       "      <td>all</td>\n",
       "      <td>469178.0</td>\n",
       "      <td>2431.00</td>\n",
       "    </tr>\n",
       "    <tr>\n",
       "      <th>4</th>\n",
       "      <td>CAD</td>\n",
       "      <td>224</td>\n",
       "      <td>137147</td>\n",
       "      <td>2018-07-20 23:09:54</td>\n",
       "      <td>2018-09-04 03:59:00</td>\n",
       "      <td>The Aber Group</td>\n",
       "      <td>202-120 Eglinton Avenue East,Toronto,M4P1E2,CA</td>\n",
       "      <td>all</td>\n",
       "      <td>Plan International Canada</td>\n",
       "      <td>0</td>\n",
       "      <td>all</td>\n",
       "      <td>canada</td>\n",
       "      <td>all</td>\n",
       "      <td>all</td>\n",
       "      <td>all</td>\n",
       "      <td>all</td>\n",
       "      <td>en</td>\n",
       "      <td>3905346.0</td>\n",
       "      <td>159.04</td>\n",
       "    </tr>\n",
       "  </tbody>\n",
       "</table>\n",
       "</div>"
      ],
      "text/plain": [
       "  Currency Code  Spend  Impressions           StartDate             EndDate  \\\n",
       "0           USD     60        15116 2018-12-01 17:37:07 2019-01-10 22:51:08   \n",
       "1           EUR    673       223919 2018-09-02 09:59:57 2018-09-15 09:59:59   \n",
       "2           USD    996        94458 2018-10-18 20:06:52 2018-11-06 23:00:00   \n",
       "3           USD   2431       500887 2018-10-29 17:40:22 2018-11-04 04:00:00   \n",
       "4           CAD    224       137147 2018-07-20 23:09:54 2018-09-04 03:59:00   \n",
       "\n",
       "           OrganizationName                                  BillingAddress  \\\n",
       "0                       Lpm                                              GB   \n",
       "1               Media Agent                  Østre alle 2 ,Værløse ,3500,DK   \n",
       "2  Bully Pulpit Interactive        1445 New York Ave NW,Washington,20005,US   \n",
       "3                   Acronym                                              US   \n",
       "4            The Aber Group  202-120 Eglinton Avenue East,Toronto,M4P1E2,CA   \n",
       "\n",
       "  CandidateBallotInformation       PayingAdvertiserName  Gender AgeBracket  \\\n",
       "0                        all                     Sdm.Ng       0        29+   \n",
       "1                        all           Dansk_Folkeparti       0        17+   \n",
       "2                        all            Nextgen America       0      18-34   \n",
       "3                        all            Show Up To Vote       1        18+   \n",
       "4                        all  Plan International Canada       0        all   \n",
       "\n",
       "     CountryCode                                 Regions (Included)  \\\n",
       "0        nigeria                                              Lagos   \n",
       "1        denmark                                                all   \n",
       "2  united states                                                all   \n",
       "3  united states  Florida,Michigan,Minnesota,Georgia,Wisconsin,P...   \n",
       "4         canada                                                all   \n",
       "\n",
       "                             Postal Codes (Included)  \\\n",
       "0                                                all   \n",
       "1                                                all   \n",
       "2  19007,19054,18960,18966,19002,18969,18976,1915...   \n",
       "3                                                all   \n",
       "4                                                all   \n",
       "\n",
       "                                           Interests                Segments  \\\n",
       "0                                                all  Provided by Advertiser   \n",
       "1                                                all  Provided by Advertiser   \n",
       "2                                                all                     all   \n",
       "3  Advocates & Activists,Basketball Fans,Bookworm...  Provided by Advertiser   \n",
       "4                                                all                     all   \n",
       "\n",
       "  Language   Duration  Uniform Spend  \n",
       "0      all  3474841.0          60.00  \n",
       "1      all  1123202.0         740.30  \n",
       "2      all  1651988.0         996.00  \n",
       "3      all   469178.0        2431.00  \n",
       "4       en  3905346.0         159.04  "
      ]
     },
     "execution_count": 304,
     "metadata": {},
     "output_type": "execute_result"
    }
   ],
   "source": [
    "df_cleaned.head()"
   ]
  },
  {
   "cell_type": "markdown",
   "metadata": {},
   "source": [
    "We create a pipline by using columntransformer and RandomForestClassifier."
   ]
  },
  {
   "cell_type": "code",
   "execution_count": 305,
   "metadata": {},
   "outputs": [
    {
     "data": {
      "text/plain": [
       "Pipeline(memory=None,\n",
       "         steps=[('column',\n",
       "                 ColumnTransformer(n_jobs=None, remainder='passthrough',\n",
       "                                   sparse_threshold=0.3,\n",
       "                                   transformer_weights=None,\n",
       "                                   transformers=[('col_one',\n",
       "                                                  Pipeline(memory=None,\n",
       "                                                           steps=[('onehot '\n",
       "                                                                   'Encode',\n",
       "                                                                   OneHotEncoder(categories='auto',\n",
       "                                                                                 drop=None,\n",
       "                                                                                 dtype=<class 'numpy.float64'>,\n",
       "                                                                                 handle_unknown='ignore',\n",
       "                                                                                 sparse=False))],\n",
       "                                                           verbose=False),\n",
       "                                                  ['Currency Code'...\n",
       "                 RandomForestClassifier(bootstrap=True, ccp_alpha=0.0,\n",
       "                                        class_weight=None, criterion='gini',\n",
       "                                        max_depth=None, max_features='auto',\n",
       "                                        max_leaf_nodes=None, max_samples=None,\n",
       "                                        min_impurity_decrease=0.0,\n",
       "                                        min_impurity_split=None,\n",
       "                                        min_samples_leaf=1, min_samples_split=2,\n",
       "                                        min_weight_fraction_leaf=0.0,\n",
       "                                        n_estimators=100, n_jobs=None,\n",
       "                                        oob_score=False, random_state=None,\n",
       "                                        verbose=0, warm_start=False))],\n",
       "         verbose=False)"
      ]
     },
     "execution_count": 305,
     "metadata": {},
     "output_type": "execute_result"
    }
   ],
   "source": [
    "X = df_cleaned.drop(columns=['Gender','StartDate','EndDate','Duration'])\n",
    "y =  df_cleaned['Gender']\n",
    "pl = Pipeline([('column', column_trans),('RFC', RandomForestClassifier())])\n",
    "train_X, test_X, train_y, test_y = train_test_split(X,y)\n",
    "pl.fit(train_X,train_y)"
   ]
  },
  {
   "cell_type": "code",
   "execution_count": 306,
   "metadata": {},
   "outputs": [],
   "source": [
    "preds=pl.predict(test_X)"
   ]
  },
  {
   "cell_type": "markdown",
   "metadata": {},
   "source": [
    "We get a model with 96% overall accuracy "
   ]
  },
  {
   "cell_type": "code",
   "execution_count": 307,
   "metadata": {},
   "outputs": [
    {
     "data": {
      "text/plain": [
       "0.9618937644341802"
      ]
     },
     "execution_count": 307,
     "metadata": {},
     "output_type": "execute_result"
    }
   ],
   "source": [
    "metrics.accuracy_score(test_y, preds)"
   ]
  },
  {
   "cell_type": "markdown",
   "metadata": {},
   "source": [
    "However, the recall_score for single gender in this model is not high enough, while the recall-score for all gender in this model is ideal. "
   ]
  },
  {
   "cell_type": "code",
   "execution_count": 308,
   "metadata": {},
   "outputs": [
    {
     "data": {
      "text/plain": [
       "0.7362637362637363"
      ]
     },
     "execution_count": 308,
     "metadata": {},
     "output_type": "execute_result"
    }
   ],
   "source": [
    "metrics.recall_score(test_y, preds)"
   ]
  },
  {
   "cell_type": "code",
   "execution_count": 309,
   "metadata": {},
   "outputs": [
    {
     "data": {
      "text/plain": [
       "0.9883870967741936"
      ]
     },
     "execution_count": 309,
     "metadata": {},
     "output_type": "execute_result"
    }
   ],
   "source": [
    "metrics.recall_score(test_y,preds, pos_label=0)"
   ]
  },
  {
   "cell_type": "markdown",
   "metadata": {},
   "source": [
    "It is also important to note that the importances of the features we used is not large enough."
   ]
  },
  {
   "cell_type": "code",
   "execution_count": 310,
   "metadata": {},
   "outputs": [
    {
     "data": {
      "text/plain": [
       "{'Currency Code': 0.0001091705715065244,\n",
       " 'Spend': 0.006129835976434821,\n",
       " 'Impressions': 0.0017423242301077032,\n",
       " 'OrganizationName': 0.0018103604040777268,\n",
       " 'BillingAddress': 0.003637720721487741,\n",
       " 'CandidateBallotInformation': 5.369000364873299e-07,\n",
       " 'PayingAdvertiserName': 0.00031355639134108583,\n",
       " 'AgeBracket': 4.262128770716931e-05,\n",
       " 'CountryCode': 1.0212738794172552e-05,\n",
       " 'Regions (Included)': 1.9944997264316656e-06,\n",
       " 'Postal Codes (Included)': 0.007625051167466364,\n",
       " 'Interests': 5.0505709226202755e-05,\n",
       " 'Segments': 0.00803481696364358,\n",
       " 'Language': 0.0001954795983572396,\n",
       " 'Uniform Spend': 0.00019416501850817022}"
      ]
     },
     "execution_count": 310,
     "metadata": {},
     "output_type": "execute_result"
    }
   ],
   "source": [
    "dict(zip(X.columns, pl['RFC'].feature_importances_))"
   ]
  },
  {
   "cell_type": "markdown",
   "metadata": {},
   "source": [
    "Following shows the performance detail of the model. We see that when predicting single-gender-targeted advertisment, our model tends to more wrongly than predicting the all-targeted advertisment."
   ]
  },
  {
   "cell_type": "code",
   "execution_count": 311,
   "metadata": {},
   "outputs": [
    {
     "name": "stdout",
     "output_type": "stream",
     "text": [
      "              precision    recall  f1-score   support\n",
      "\n",
      "        Both       0.97      0.99      0.98       775\n",
      "      Single       0.88      0.74      0.80        91\n",
      "\n",
      "    accuracy                           0.96       866\n",
      "   macro avg       0.93      0.86      0.89       866\n",
      "weighted avg       0.96      0.96      0.96       866\n",
      "\n"
     ]
    }
   ],
   "source": [
    "print(classification_report(test_y, preds, target_names=[\"Both\", \"Single\"]))"
   ]
  },
  {
   "cell_type": "markdown",
   "metadata": {},
   "source": [
    "### Final Model"
   ]
  },
  {
   "cell_type": "markdown",
   "metadata": {},
   "source": [
    "We change the age column to 6 groups: 0-all, 1-'young+mid', 2-'mid',3-'young', 4-'mid+old',5-'old'"
   ]
  },
  {
   "cell_type": "code",
   "execution_count": 155,
   "metadata": {},
   "outputs": [],
   "source": [
    "def age_tran(x):\n",
    "    if pd.isna(x):\n",
    "        return 0\n",
    "    if '+' in x :\n",
    "        if int(x[:2])>20:\n",
    "            return 1\n",
    "        else:\n",
    "            return 0\n",
    "    elif '-' in x:\n",
    "        if x[-1]!='-':\n",
    "            if int(x[:2])>20 and int(x[-2:])<35:\n",
    "                return 2\n",
    "            elif int(x[-2:])<20:\n",
    "                return 3\n",
    "            elif int(x[-2:])>35:\n",
    "                return 4\n",
    "            else:\n",
    "                return 0\n",
    "        else:\n",
    "            if int(x[:2])>20:\n",
    "                return 5\n",
    "            else:\n",
    "                return 3\n",
    "    else:\n",
    "        return 0\n",
    "        "
   ]
  },
  {
   "cell_type": "markdown",
   "metadata": {},
   "source": [
    "We also calculate the number of Interest, Postal Codes and regions targeted. We also include Duration this time"
   ]
  },
  {
   "cell_type": "code",
   "execution_count": 156,
   "metadata": {},
   "outputs": [],
   "source": [
    "def number_trans(df_cleaned):\n",
    "    df_cleaned[\"Interests\"] = df_cleaned[\"Interests\"].str.count(\",\") + 1\n",
    "    df_cleaned[\"Postal Codes (Included)\"] = df_cleaned[\"Postal Codes (Included)\"].str.count(\",\") + 1\n",
    "    df_cleaned['Regions (Included)'] = df_cleaned[\"Regions (Included)\"].str.count(\",\") + 1\n",
    "    return df_cleaned"
   ]
  },
  {
   "cell_type": "markdown",
   "metadata": {},
   "source": [
    "We also introduce PCA to eliminate the possible correlation between each variable, and then build the pipeline with the same step as the baseline model."
   ]
  },
  {
   "cell_type": "code",
   "execution_count": 157,
   "metadata": {},
   "outputs": [],
   "source": [
    "pl_one_hot = Pipeline(steps=[(\"onehot Encode\", OneHotEncoder(sparse=False,handle_unknown='ignore'))])\n",
    "one_hot_col =['Currency Code','CountryCode','Segments','Language', \"Interests\",\"Postal Codes (Included)\"\n",
    "              ,\"Regions (Included)\",'PayingAdvertiserName','BillingAddress','OrganizationName','CandidateBallotInformation'] \n",
    "column_trans = ColumnTransformer(\n",
    "      [(\"col_one\",pl_one_hot, one_hot_col),\n",
    "       (\"age_trans\",FunctionTransformer(lambda x: x['AgeBracket'].apply(age_tran).to_frame()), ['AgeBracket']),\n",
    "       (\"num_trans\",FunctionTransformer(number_trans), [\"Interests\",\"Postal Codes (Included)\",\"Regions (Included)\"])],\n",
    "    remainder = 'passthrough')"
   ]
  },
  {
   "cell_type": "code",
   "execution_count": 232,
   "metadata": {},
   "outputs": [
    {
     "data": {
      "text/plain": [
       "Pipeline(memory=None,\n",
       "         steps=[('column',\n",
       "                 ColumnTransformer(n_jobs=None, remainder='passthrough',\n",
       "                                   sparse_threshold=0.3,\n",
       "                                   transformer_weights=None,\n",
       "                                   transformers=[('col_one',\n",
       "                                                  Pipeline(memory=None,\n",
       "                                                           steps=[('onehot '\n",
       "                                                                   'Encode',\n",
       "                                                                   OneHotEncoder(categories='auto',\n",
       "                                                                                 drop=None,\n",
       "                                                                                 dtype=<class 'numpy.float64'>,\n",
       "                                                                                 handle_unknown='ignore',\n",
       "                                                                                 sparse=False))],\n",
       "                                                           verbose=False),\n",
       "                                                  ['Currency Code'...\n",
       "                 RandomForestClassifier(bootstrap=True, ccp_alpha=0.0,\n",
       "                                        class_weight=None, criterion='gini',\n",
       "                                        max_depth=None, max_features='auto',\n",
       "                                        max_leaf_nodes=None, max_samples=None,\n",
       "                                        min_impurity_decrease=0.0,\n",
       "                                        min_impurity_split=None,\n",
       "                                        min_samples_leaf=1, min_samples_split=2,\n",
       "                                        min_weight_fraction_leaf=0.0,\n",
       "                                        n_estimators=100, n_jobs=None,\n",
       "                                        oob_score=False, random_state=None,\n",
       "                                        verbose=0, warm_start=False))],\n",
       "         verbose=False)"
      ]
     },
     "execution_count": 232,
     "metadata": {},
     "output_type": "execute_result"
    }
   ],
   "source": [
    "X = df_cleaned.drop(columns=['Gender','StartDate','EndDate'])\n",
    "y =  df_cleaned['Gender']\n",
    "pl_improved = Pipeline([('column', column_trans),(\"pca\", PCA(svd_solver=\"full\")), ('RFC', RandomForestClassifier())])\n",
    "train_X, test_X, train_y, test_y = train_test_split(X,y)\n",
    "pl_improved.fit(train_X,train_y)\n"
   ]
  },
  {
   "cell_type": "markdown",
   "metadata": {},
   "source": [
    "The importances of the features do not change substantially."
   ]
  },
  {
   "cell_type": "code",
   "execution_count": 159,
   "metadata": {},
   "outputs": [
    {
     "data": {
      "text/plain": [
       "{'Currency Code': 0.0014725156040416457,\n",
       " 'Spend': 0.008497995177462496,\n",
       " 'Impressions': 0.0024971579752825846,\n",
       " 'OrganizationName': 0.00445643970517963,\n",
       " 'BillingAddress': 0.002806546134244866,\n",
       " 'CandidateBallotInformation': 0.006384723737774337,\n",
       " 'PayingAdvertiserName': 0.0019432939366952726,\n",
       " 'AgeBracket': 0.0048234112798633275,\n",
       " 'CountryCode': 0.004558835734058875,\n",
       " 'Regions (Included)': 0.00827441758444235,\n",
       " 'Postal Codes (Included)': 0.003288043028088084,\n",
       " 'Interests': 0.002055013380914539,\n",
       " 'Segments': 0.002775059443922964,\n",
       " 'Language': 0.0009535679563369811,\n",
       " 'Duration': 0.001584297016014658,\n",
       " 'Uniform Spend': 0.002162119816831925}"
      ]
     },
     "execution_count": 159,
     "metadata": {},
     "output_type": "execute_result"
    }
   ],
   "source": [
    "dict(zip(X.columns, pl_improved['RFC'].feature_importances_))"
   ]
  },
  {
   "cell_type": "code",
   "execution_count": 160,
   "metadata": {},
   "outputs": [],
   "source": [
    "preds_improved = pl_improved.predict(test_X)"
   ]
  },
  {
   "cell_type": "markdown",
   "metadata": {},
   "source": [
    "Then we see a slightly improvement,about 1%,in our accuracy when we adopt our improved model."
   ]
  },
  {
   "cell_type": "code",
   "execution_count": 162,
   "metadata": {},
   "outputs": [
    {
     "data": {
      "text/plain": [
       "0.9711316397228638"
      ]
     },
     "execution_count": 162,
     "metadata": {},
     "output_type": "execute_result"
    }
   ],
   "source": [
    "metrics.accuracy_score(test_y, preds_improved)"
   ]
  },
  {
   "cell_type": "markdown",
   "metadata": {},
   "source": [
    "We also find a slightly improvement in recall_score when we predicting single-gender-targted advertisment, while the good performance when predicting single-gender-targted advertisment is kept."
   ]
  },
  {
   "cell_type": "code",
   "execution_count": 164,
   "metadata": {},
   "outputs": [
    {
     "data": {
      "text/plain": [
       "0.8165137614678899"
      ]
     },
     "execution_count": 164,
     "metadata": {},
     "output_type": "execute_result"
    }
   ],
   "source": [
    "metrics.recall_score(test_y, preds_improved)"
   ]
  },
  {
   "cell_type": "code",
   "execution_count": 168,
   "metadata": {},
   "outputs": [
    {
     "data": {
      "text/plain": [
       "0.9933949801849405"
      ]
     },
     "execution_count": 168,
     "metadata": {},
     "output_type": "execute_result"
    }
   ],
   "source": [
    "metrics.recall_score(test_y,preds_improved, pos_label=0)"
   ]
  },
  {
   "cell_type": "markdown",
   "metadata": {},
   "source": [
    "In general, our final model do improve score when predicting the single-gender-targted advertisment compared to the baseline model and make a better balance when predicting the gender variables."
   ]
  },
  {
   "cell_type": "code",
   "execution_count": 171,
   "metadata": {},
   "outputs": [
    {
     "name": "stdout",
     "output_type": "stream",
     "text": [
      "              precision    recall  f1-score   support\n",
      "\n",
      "        Both       0.97      0.99      0.98       757\n",
      "      Single       0.95      0.82      0.88       109\n",
      "\n",
      "    accuracy                           0.97       866\n",
      "   macro avg       0.96      0.90      0.93       866\n",
      "weighted avg       0.97      0.97      0.97       866\n",
      "\n"
     ]
    }
   ],
   "source": [
    "print(classification_report(test_y, preds_improved, target_names=[\"Both\", \"Single\"]))"
   ]
  },
  {
   "cell_type": "markdown",
   "metadata": {},
   "source": [
    "Next, we introduce GridSearchCV to choose a better model parameter"
   ]
  },
  {
   "cell_type": "code",
   "execution_count": 55,
   "metadata": {},
   "outputs": [],
   "source": [
    "from sklearn.model_selection import GridSearchCV"
   ]
  },
  {
   "cell_type": "markdown",
   "metadata": {},
   "source": [
    "First, we try to figure out what params does our model have"
   ]
  },
  {
   "cell_type": "code",
   "execution_count": 57,
   "metadata": {
    "scrolled": true
   },
   "outputs": [
    {
     "data": {
      "text/plain": [
       "dict_keys(['memory', 'steps', 'verbose', 'column', 'RFC', 'column__n_jobs', 'column__remainder', 'column__sparse_threshold', 'column__transformer_weights', 'column__transformers', 'column__verbose', 'column__col_one', 'column__age_trans', 'column__num_trans', 'column__col_one__memory', 'column__col_one__steps', 'column__col_one__verbose', 'column__col_one__onehot Encode', 'column__col_one__onehot Encode__categories', 'column__col_one__onehot Encode__drop', 'column__col_one__onehot Encode__dtype', 'column__col_one__onehot Encode__handle_unknown', 'column__col_one__onehot Encode__sparse', 'column__age_trans__accept_sparse', 'column__age_trans__check_inverse', 'column__age_trans__func', 'column__age_trans__inv_kw_args', 'column__age_trans__inverse_func', 'column__age_trans__kw_args', 'column__age_trans__validate', 'column__num_trans__accept_sparse', 'column__num_trans__check_inverse', 'column__num_trans__func', 'column__num_trans__inv_kw_args', 'column__num_trans__inverse_func', 'column__num_trans__kw_args', 'column__num_trans__validate', 'RFC__bootstrap', 'RFC__ccp_alpha', 'RFC__class_weight', 'RFC__criterion', 'RFC__max_depth', 'RFC__max_features', 'RFC__max_leaf_nodes', 'RFC__max_samples', 'RFC__min_impurity_decrease', 'RFC__min_impurity_split', 'RFC__min_samples_leaf', 'RFC__min_samples_split', 'RFC__min_weight_fraction_leaf', 'RFC__n_estimators', 'RFC__n_jobs', 'RFC__oob_score', 'RFC__random_state', 'RFC__verbose', 'RFC__warm_start'])"
      ]
     },
     "execution_count": 57,
     "metadata": {},
     "output_type": "execute_result"
    }
   ],
   "source": [
    "pl.get_params().keys()"
   ]
  },
  {
   "cell_type": "markdown",
   "metadata": {},
   "source": [
    "Then we choose max_depth and max_leaf_nodes as out candidates."
   ]
  },
  {
   "cell_type": "code",
   "execution_count": 234,
   "metadata": {},
   "outputs": [],
   "source": [
    "params = {\n",
    "    'RFC__max_depth': [2,3,4,5,10,12,15,18,20,None],\n",
    "    'RFC__max_leaf_nodes':[2,3,4,None]\n",
    "}"
   ]
  },
  {
   "cell_type": "code",
   "execution_count": 235,
   "metadata": {},
   "outputs": [],
   "source": [
    "#compare each candidate using cross validation\n",
    "p = GridSearchCV(pl, params, cv = 5)"
   ]
  },
  {
   "cell_type": "code",
   "execution_count": 236,
   "metadata": {},
   "outputs": [
    {
     "data": {
      "text/plain": [
       "GridSearchCV(cv=5, error_score=nan,\n",
       "             estimator=Pipeline(memory=None,\n",
       "                                steps=[('column',\n",
       "                                        ColumnTransformer(n_jobs=None,\n",
       "                                                          remainder='passthrough',\n",
       "                                                          sparse_threshold=0.3,\n",
       "                                                          transformer_weights=None,\n",
       "                                                          transformers=[('col_one',\n",
       "                                                                         Pipeline(memory=None,\n",
       "                                                                                  steps=[('onehot '\n",
       "                                                                                          'Encode',\n",
       "                                                                                          OneHotEncoder(categories='auto',\n",
       "                                                                                                        drop=None,\n",
       "                                                                                                        dtype=<class 'numpy.float64'>,\n",
       "                                                                                                        handle_unknown='ignore',\n",
       "                                                                                                        sp...\n",
       "                                                               min_samples_split=2,\n",
       "                                                               min_weight_fraction_leaf=0.0,\n",
       "                                                               n_estimators=100,\n",
       "                                                               n_jobs=None,\n",
       "                                                               oob_score=False,\n",
       "                                                               random_state=None,\n",
       "                                                               verbose=0,\n",
       "                                                               warm_start=False))],\n",
       "                                verbose=False),\n",
       "             iid='deprecated', n_jobs=None,\n",
       "             param_grid={'RFC__max_depth': [2, 3, 4, 5, 10, 12, 15, 18, 20,\n",
       "                                            None],\n",
       "                         'RFC__max_leaf_nodes': [2, 3, 4, None]},\n",
       "             pre_dispatch='2*n_jobs', refit=True, return_train_score=False,\n",
       "             scoring=None, verbose=0)"
      ]
     },
     "execution_count": 236,
     "metadata": {},
     "output_type": "execute_result"
    }
   ],
   "source": [
    "p.fit(train_X, train_y)"
   ]
  },
  {
   "cell_type": "markdown",
   "metadata": {},
   "source": [
    "The we find that the best parameter become the default parameter"
   ]
  },
  {
   "cell_type": "code",
   "execution_count": 237,
   "metadata": {},
   "outputs": [
    {
     "data": {
      "text/plain": [
       "{'RFC__max_depth': None, 'RFC__max_leaf_nodes': None}"
      ]
     },
     "execution_count": 237,
     "metadata": {},
     "output_type": "execute_result"
    }
   ],
   "source": [
    "#default params\n",
    "p.best_params_"
   ]
  },
  {
   "cell_type": "markdown",
   "metadata": {},
   "source": [
    "Finally our final model get a overall score of 97%"
   ]
  },
  {
   "cell_type": "code",
   "execution_count": 241,
   "metadata": {},
   "outputs": [
    {
     "data": {
      "text/plain": [
       "0.9703631243515636"
      ]
     },
     "execution_count": 241,
     "metadata": {},
     "output_type": "execute_result"
    }
   ],
   "source": [
    "p.best_score_"
   ]
  },
  {
   "cell_type": "markdown",
   "metadata": {},
   "source": [
    "### Fairness Evaluation"
   ]
  },
  {
   "cell_type": "markdown",
   "metadata": {},
   "source": [
    "In this part we want to check whether there is an unfairness between cheap advertisment and expensive advertisment. We assign predictions and true classification to the original dataframe"
   ]
  },
  {
   "cell_type": "code",
   "execution_count": 189,
   "metadata": {},
   "outputs": [
    {
     "data": {
      "text/html": [
       "<div>\n",
       "<style scoped>\n",
       "    .dataframe tbody tr th:only-of-type {\n",
       "        vertical-align: middle;\n",
       "    }\n",
       "\n",
       "    .dataframe tbody tr th {\n",
       "        vertical-align: top;\n",
       "    }\n",
       "\n",
       "    .dataframe thead th {\n",
       "        text-align: right;\n",
       "    }\n",
       "</style>\n",
       "<table border=\"1\" class=\"dataframe\">\n",
       "  <thead>\n",
       "    <tr style=\"text-align: right;\">\n",
       "      <th></th>\n",
       "      <th>Currency Code</th>\n",
       "      <th>Spend</th>\n",
       "      <th>Impressions</th>\n",
       "      <th>OrganizationName</th>\n",
       "      <th>BillingAddress</th>\n",
       "      <th>CandidateBallotInformation</th>\n",
       "      <th>PayingAdvertiserName</th>\n",
       "      <th>AgeBracket</th>\n",
       "      <th>CountryCode</th>\n",
       "      <th>Regions (Included)</th>\n",
       "      <th>Postal Codes (Included)</th>\n",
       "      <th>Interests</th>\n",
       "      <th>Segments</th>\n",
       "      <th>Language</th>\n",
       "      <th>Duration</th>\n",
       "      <th>Uniform Spend</th>\n",
       "      <th>prediction</th>\n",
       "      <th>tag</th>\n",
       "      <th>is_expensive</th>\n",
       "    </tr>\n",
       "  </thead>\n",
       "  <tbody>\n",
       "    <tr>\n",
       "      <th>278</th>\n",
       "      <td>CAD</td>\n",
       "      <td>5000</td>\n",
       "      <td>2691949</td>\n",
       "      <td>Cossette Health Inc.</td>\n",
       "      <td>32 Atlantic Avenue,Toronto,M6K 1X8,CA</td>\n",
       "      <td>all</td>\n",
       "      <td>Wsps</td>\n",
       "      <td>16-22</td>\n",
       "      <td>canada</td>\n",
       "      <td>Ontario</td>\n",
       "      <td>all</td>\n",
       "      <td>all</td>\n",
       "      <td>Provided by Advertiser</td>\n",
       "      <td>en</td>\n",
       "      <td>604800.0</td>\n",
       "      <td>3550.00</td>\n",
       "      <td>0</td>\n",
       "      <td>0</td>\n",
       "      <td>expensive</td>\n",
       "    </tr>\n",
       "    <tr>\n",
       "      <th>295</th>\n",
       "      <td>EUR</td>\n",
       "      <td>219</td>\n",
       "      <td>233959</td>\n",
       "      <td>Kirchbaumer.Com Gmbh</td>\n",
       "      <td>Lindengasse 56/18-19,Wien,1070,AT</td>\n",
       "      <td>all</td>\n",
       "      <td>Freiheitliche Partei Österreichs</td>\n",
       "      <td>16+</td>\n",
       "      <td>austria</td>\n",
       "      <td>all</td>\n",
       "      <td>all</td>\n",
       "      <td>all</td>\n",
       "      <td>Provided by Advertiser</td>\n",
       "      <td>de</td>\n",
       "      <td>518328.0</td>\n",
       "      <td>240.90</td>\n",
       "      <td>0</td>\n",
       "      <td>0</td>\n",
       "      <td>cheap</td>\n",
       "    </tr>\n",
       "    <tr>\n",
       "      <th>500</th>\n",
       "      <td>USD</td>\n",
       "      <td>51</td>\n",
       "      <td>16022</td>\n",
       "      <td>Acronym</td>\n",
       "      <td>US</td>\n",
       "      <td>all</td>\n",
       "      <td>Acronym</td>\n",
       "      <td>18+</td>\n",
       "      <td>united states</td>\n",
       "      <td>Virginia</td>\n",
       "      <td>all</td>\n",
       "      <td>all</td>\n",
       "      <td>all</td>\n",
       "      <td>all</td>\n",
       "      <td>4612042.0</td>\n",
       "      <td>51.00</td>\n",
       "      <td>0</td>\n",
       "      <td>0</td>\n",
       "      <td>cheap</td>\n",
       "    </tr>\n",
       "    <tr>\n",
       "      <th>306</th>\n",
       "      <td>CAD</td>\n",
       "      <td>918</td>\n",
       "      <td>732853</td>\n",
       "      <td>The Aber Group</td>\n",
       "      <td>202-120 Eglinton Avenue East,Toronto,M4P1E2,CA</td>\n",
       "      <td>all</td>\n",
       "      <td>Plan International Canada</td>\n",
       "      <td>all</td>\n",
       "      <td>canada</td>\n",
       "      <td>all</td>\n",
       "      <td>all</td>\n",
       "      <td>Arts &amp; Culture Mavens,Green Living Enthusiasts...</td>\n",
       "      <td>all</td>\n",
       "      <td>en</td>\n",
       "      <td>3905346.0</td>\n",
       "      <td>651.78</td>\n",
       "      <td>0</td>\n",
       "      <td>1</td>\n",
       "      <td>expensive</td>\n",
       "    </tr>\n",
       "    <tr>\n",
       "      <th>3155</th>\n",
       "      <td>USD</td>\n",
       "      <td>273</td>\n",
       "      <td>45974</td>\n",
       "      <td>Arena Online</td>\n",
       "      <td>1780 Sequoia Vista Cir,Salt Lake City,84104,US</td>\n",
       "      <td>all</td>\n",
       "      <td>One Nation</td>\n",
       "      <td>all</td>\n",
       "      <td>united states</td>\n",
       "      <td>Florida</td>\n",
       "      <td>all</td>\n",
       "      <td>all</td>\n",
       "      <td>Provided by Advertiser</td>\n",
       "      <td>all</td>\n",
       "      <td>2818799.0</td>\n",
       "      <td>273.00</td>\n",
       "      <td>0</td>\n",
       "      <td>0</td>\n",
       "      <td>expensive</td>\n",
       "    </tr>\n",
       "  </tbody>\n",
       "</table>\n",
       "</div>"
      ],
      "text/plain": [
       "     Currency Code  Spend  Impressions      OrganizationName  \\\n",
       "278            CAD   5000      2691949  Cossette Health Inc.   \n",
       "295            EUR    219       233959  Kirchbaumer.Com Gmbh   \n",
       "500            USD     51        16022               Acronym   \n",
       "306            CAD    918       732853        The Aber Group   \n",
       "3155           USD    273        45974          Arena Online   \n",
       "\n",
       "                                      BillingAddress  \\\n",
       "278            32 Atlantic Avenue,Toronto,M6K 1X8,CA   \n",
       "295                Lindengasse 56/18-19,Wien,1070,AT   \n",
       "500                                               US   \n",
       "306   202-120 Eglinton Avenue East,Toronto,M4P1E2,CA   \n",
       "3155  1780 Sequoia Vista Cir,Salt Lake City,84104,US   \n",
       "\n",
       "     CandidateBallotInformation              PayingAdvertiserName AgeBracket  \\\n",
       "278                         all                              Wsps      16-22   \n",
       "295                         all  Freiheitliche Partei Österreichs        16+   \n",
       "500                         all                           Acronym        18+   \n",
       "306                         all         Plan International Canada        all   \n",
       "3155                        all                        One Nation        all   \n",
       "\n",
       "        CountryCode Regions (Included) Postal Codes (Included)  \\\n",
       "278          canada            Ontario                     all   \n",
       "295         austria                all                     all   \n",
       "500   united states           Virginia                     all   \n",
       "306          canada                all                     all   \n",
       "3155  united states            Florida                     all   \n",
       "\n",
       "                                              Interests  \\\n",
       "278                                                 all   \n",
       "295                                                 all   \n",
       "500                                                 all   \n",
       "306   Arts & Culture Mavens,Green Living Enthusiasts...   \n",
       "3155                                                all   \n",
       "\n",
       "                    Segments Language   Duration  Uniform Spend  prediction  \\\n",
       "278   Provided by Advertiser       en   604800.0        3550.00           0   \n",
       "295   Provided by Advertiser       de   518328.0         240.90           0   \n",
       "500                      all      all  4612042.0          51.00           0   \n",
       "306                      all       en  3905346.0         651.78           0   \n",
       "3155  Provided by Advertiser      all  2818799.0         273.00           0   \n",
       "\n",
       "      tag is_expensive  \n",
       "278     0    expensive  \n",
       "295     0        cheap  \n",
       "500     0        cheap  \n",
       "306     1    expensive  \n",
       "3155    0    expensive  "
      ]
     },
     "execution_count": 189,
     "metadata": {},
     "output_type": "execute_result"
    }
   ],
   "source": [
    "results = pd.DataFrame(test_X)\n",
    "results['prediction'] = preds_improved\n",
    "results['tag'] = test_y\n",
    "results.head()"
   ]
  },
  {
   "cell_type": "markdown",
   "metadata": {},
   "source": [
    "Then we group the data to two groups as 'cheap' and'expensive', which uses the median of uniform spend as standard. "
   ]
  },
  {
   "cell_type": "code",
   "execution_count": 226,
   "metadata": {},
   "outputs": [],
   "source": [
    "results['is_expensive'] = ((results['Uniform Spend'] >= (results['Uniform Spend'].median()))\n",
    "                            .replace({True:'expensive', False:'cheap'}))"
   ]
  },
  {
   "cell_type": "code",
   "execution_count": 227,
   "metadata": {},
   "outputs": [
    {
     "data": {
      "text/html": [
       "<div>\n",
       "<style scoped>\n",
       "    .dataframe tbody tr th:only-of-type {\n",
       "        vertical-align: middle;\n",
       "    }\n",
       "\n",
       "    .dataframe tbody tr th {\n",
       "        vertical-align: top;\n",
       "    }\n",
       "\n",
       "    .dataframe thead th {\n",
       "        text-align: right;\n",
       "    }\n",
       "</style>\n",
       "<table border=\"1\" class=\"dataframe\">\n",
       "  <thead>\n",
       "    <tr style=\"text-align: right;\">\n",
       "      <th></th>\n",
       "      <th>prediction</th>\n",
       "    </tr>\n",
       "    <tr>\n",
       "      <th>is_expensive</th>\n",
       "      <th></th>\n",
       "    </tr>\n",
       "  </thead>\n",
       "  <tbody>\n",
       "    <tr>\n",
       "      <th>cheap</th>\n",
       "      <td>0.094688</td>\n",
       "    </tr>\n",
       "    <tr>\n",
       "      <th>expensive</th>\n",
       "      <td>0.122402</td>\n",
       "    </tr>\n",
       "  </tbody>\n",
       "</table>\n",
       "</div>"
      ],
      "text/plain": [
       "              prediction\n",
       "is_expensive            \n",
       "cheap           0.094688\n",
       "expensive       0.122402"
      ]
     },
     "execution_count": 227,
     "metadata": {},
     "output_type": "execute_result"
    }
   ],
   "source": [
    "results.groupby('is_expensive').prediction.mean().to_frame()"
   ]
  },
  {
   "cell_type": "markdown",
   "metadata": {},
   "source": [
    "Then we find there is a 2% difference between  accuracy of two different groups, which is not large in some sense."
   ]
  },
  {
   "cell_type": "code",
   "execution_count": 192,
   "metadata": {},
   "outputs": [
    {
     "data": {
      "text/html": [
       "<div>\n",
       "<style scoped>\n",
       "    .dataframe tbody tr th:only-of-type {\n",
       "        vertical-align: middle;\n",
       "    }\n",
       "\n",
       "    .dataframe tbody tr th {\n",
       "        vertical-align: top;\n",
       "    }\n",
       "\n",
       "    .dataframe thead th {\n",
       "        text-align: right;\n",
       "    }\n",
       "</style>\n",
       "<table border=\"1\" class=\"dataframe\">\n",
       "  <thead>\n",
       "    <tr style=\"text-align: right;\">\n",
       "      <th></th>\n",
       "      <th>accuracy</th>\n",
       "    </tr>\n",
       "    <tr>\n",
       "      <th>is_expensive</th>\n",
       "      <th></th>\n",
       "    </tr>\n",
       "  </thead>\n",
       "  <tbody>\n",
       "    <tr>\n",
       "      <th>cheap</th>\n",
       "      <td>0.981524</td>\n",
       "    </tr>\n",
       "    <tr>\n",
       "      <th>expensive</th>\n",
       "      <td>0.960739</td>\n",
       "    </tr>\n",
       "  </tbody>\n",
       "</table>\n",
       "</div>"
      ],
      "text/plain": [
       "              accuracy\n",
       "is_expensive          \n",
       "cheap         0.981524\n",
       "expensive     0.960739"
      ]
     },
     "execution_count": 192,
     "metadata": {},
     "output_type": "execute_result"
    }
   ],
   "source": [
    "\n",
    "(results\n",
    "    .groupby('is_expensive')\n",
    "    .apply(lambda x: metrics.accuracy_score(x.tag, x.prediction))\n",
    "    .rename('accuracy')\n",
    "    .to_frame())\n"
   ]
  },
  {
   "cell_type": "code",
   "execution_count": 243,
   "metadata": {},
   "outputs": [
    {
     "data": {
      "text/plain": [
       "<matplotlib.axes._subplots.AxesSubplot at 0x1a1a1bed50>"
      ]
     },
     "execution_count": 243,
     "metadata": {},
     "output_type": "execute_result"
    },
    {
     "data": {
      "image/png": "[encoded data removed]",
      "text/plain": [
       "<Figure size 432x288 with 1 Axes>"
      ]
     },
     "metadata": {
      "image/png": {
       "height": 303,
       "width": 372
      },
      "needs_background": "light"
     },
     "output_type": "display_data"
    }
   ],
   "source": [
    "#draw a plot to see the difference\n",
    "(results.groupby('is_expensive')\n",
    "    .apply(lambda x: metrics.accuracy_score(x.tag, x.prediction))\n",
    "    .plot(kind='bar'))"
   ]
  },
  {
   "cell_type": "markdown",
   "metadata": {},
   "source": [
    "Then we do a 500-shuffled permutation test to see whether the difference is by chance"
   ]
  },
  {
   "cell_type": "code",
   "execution_count": 218,
   "metadata": {},
   "outputs": [],
   "source": [
    "obs = results.groupby('is_expensive').apply(lambda x: metrics.accuracy_score(x.tag, x.prediction)).diff().iloc[-1]\n",
    "\n",
    "metrs = []\n",
    "for _ in range(500):\n",
    "    s = (\n",
    "        results[['is_expensive', 'prediction', 'tag']]\n",
    "        .assign(is_expensive=results.is_expensive.sample(frac=1.0, replace=False).reset_index(drop=True))\n",
    "        .groupby('is_expensive')\n",
    "        .apply(lambda x: metrics.accuracy_score(x.tag, x.prediction))\n",
    "        .diff()\n",
    "        .iloc[-1]\n",
    "    )\n",
    "    \n",
    "    metrs.append(s)\n"
   ]
  },
  {
   "cell_type": "markdown",
   "metadata": {},
   "source": [
    "The p-value is 0.78, so we fail to reject our null hypothesis"
   ]
  },
  {
   "cell_type": "code",
   "execution_count": 219,
   "metadata": {},
   "outputs": [
    {
     "name": "stdout",
     "output_type": "stream",
     "text": [
      "0.784\n"
     ]
    },
    {
     "data": {
      "image/png": "[encoded data removed]",
      "text/plain": [
       "<Figure size 432x288 with 1 Axes>"
      ]
     },
     "metadata": {
      "image/png": {
       "height": 263,
       "width": 409
      },
      "needs_background": "light"
     },
     "output_type": "display_data"
    }
   ],
   "source": [
    "print(pd.Series(metrs >= obs).mean())\n",
    "pd.Series(metrs).plot(kind='hist', title='Permutation Test for accuracy across expensive/cheap groups')\n",
    "plt.scatter(obs, 0, c='r');"
   ]
  },
  {
   "cell_type": "code",
   "execution_count": null,
   "metadata": {},
   "outputs": [],
   "source": []
  }
 ],
 "metadata": {
  "kernelspec": {
   "display_name": "Python 3",
   "language": "python",
   "name": "python3"
  },
  "language_info": {
   "codemirror_mode": {
    "name": "ipython",
    "version": 3
   },
   "file_extension": ".py",
   "mimetype": "text/x-python",
   "name": "python",
   "nbconvert_exporter": "python",
   "pygments_lexer": "ipython3",
   "version": "3.7.6"
  }
 },
 "nbformat": 4,
 "nbformat_minor": 4
}
